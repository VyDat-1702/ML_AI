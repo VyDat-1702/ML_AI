{
 "cells": [
  {
   "cell_type": "code",
   "execution_count": 4,
   "id": "c9e480b3",
   "metadata": {},
   "outputs": [],
   "source": [
    "from PIL import Image\n",
    "import torch\n",
    "import torch.nn as nn\n",
    "from torchvision import transforms\n",
    "import matplotlib.pyplot as plt\n",
    "import os"
   ]
  },
  {
   "cell_type": "code",
   "execution_count": 5,
   "id": "fb4f4f03",
   "metadata": {},
   "outputs": [],
   "source": [
    "\n",
    "class ChanelAttention(nn.Module):\n",
    "    def __init__(self, in_c, ratio):\n",
    "        super().__init__()\n",
    "        self.avgpool = nn.AdaptiveAvgPool2d(1)\n",
    "        self.maxpool = nn.AdaptiveMaxPool2d(1)\n",
    "        \n",
    "        self.fc = nn.Sequential(\n",
    "            nn.Conv2d(in_c, in_c//ratio, kernel_size=1, bias=False),\n",
    "            nn.ReLU(inplace=True),\n",
    "            nn.Conv2d(in_c//ratio, in_c, kernel_size=1, bias=False)\n",
    "        )\n",
    "        \n",
    "    def forward(self, x):\n",
    "        avg_x = self.fc(self.avgpool(x))\n",
    "        max_x = self.fc(self.maxpool(x))\n",
    "        out = avg_x + max_x\n",
    "        return torch.sigmoid(out)\n",
    "\n",
    "class SpatialAttention(nn.Module):\n",
    "    def __init__(self):\n",
    "        super().__init__()\n",
    "        self.conv = nn.Conv2d(2, 1, kernel_size=7, padding=3, bias=False)\n",
    "        \n",
    "    def forward(self, x):\n",
    "        avg_out = torch.mean(x, dim=1, keepdim=True)\n",
    "        max_out, _ = torch.max(x, dim=1, keepdim=True)\n",
    "        out = torch.cat([avg_out, max_out], dim=1)\n",
    "        out = self.conv(out)\n",
    "        return torch.sigmoid(out)\n",
    "\n",
    "class CBAM(nn.Module):\n",
    "    def __init__(self, in_c, ratio=8):\n",
    "        super().__init__()\n",
    "        self.CA = ChanelAttention(in_c, ratio)\n",
    "        self.SA = SpatialAttention()\n",
    "        \n",
    "    def forward(self, x):\n",
    "        x = x * self.CA(x)\n",
    "        x = x * self.SA(x)\n",
    "        return x"
   ]
  },
  {
   "cell_type": "code",
   "execution_count": 1,
   "id": "8d143de7",
   "metadata": {},
   "outputs": [
    {
     "ename": "NameError",
     "evalue": "name 'os' is not defined",
     "output_type": "error",
     "traceback": [
      "\u001b[0;31m---------------------------------------------------------------------------\u001b[0m",
      "\u001b[0;31mNameError\u001b[0m                                 Traceback (most recent call last)",
      "Cell \u001b[0;32mIn[1], line 3\u001b[0m\n\u001b[1;32m      1\u001b[0m img_folder \u001b[38;5;241m=\u001b[39m \u001b[38;5;124m'\u001b[39m\u001b[38;5;124m/home/vydat/Code/ML_AI/Source/img\u001b[39m\u001b[38;5;124m'\u001b[39m\n\u001b[0;32m----> 3\u001b[0m \u001b[38;5;28;01mfor\u001b[39;00m i, img_name \u001b[38;5;129;01min\u001b[39;00m \u001b[38;5;28menumerate\u001b[39m(\u001b[43mos\u001b[49m\u001b[38;5;241m.\u001b[39mlistdir(img_folder)[:\u001b[38;5;241m5\u001b[39m]):\n\u001b[1;32m      4\u001b[0m     img_path \u001b[38;5;241m=\u001b[39m os\u001b[38;5;241m.\u001b[39mpath\u001b[38;5;241m.\u001b[39mjoin(img_folder, img_name)\n\u001b[1;32m      6\u001b[0m     \u001b[38;5;28;01mif\u001b[39;00m img_path\u001b[38;5;241m.\u001b[39mendswith((\u001b[38;5;124m'\u001b[39m\u001b[38;5;124m.png\u001b[39m\u001b[38;5;124m'\u001b[39m, \u001b[38;5;124m'\u001b[39m\u001b[38;5;124m.jpg\u001b[39m\u001b[38;5;124m'\u001b[39m, \u001b[38;5;124m'\u001b[39m\u001b[38;5;124m.jpeg\u001b[39m\u001b[38;5;124m'\u001b[39m)): \n",
      "\u001b[0;31mNameError\u001b[0m: name 'os' is not defined"
     ]
    }
   ],
   "source": [
    "img_folder = '/home/vydat/Code/ML_AI/Source/img'\n",
    "\n",
    "for i, img_name in enumerate(os.listdir(img_folder)[:5]):\n",
    "    img_path = os.path.join(img_folder, img_name)\n",
    "    \n",
    "    if img_path.endswith(('.png', '.jpg', '.jpeg')): \n",
    "        image = Image.open(img_path).convert('RGB')\n",
    "\n",
    "        transform = transforms.Compose([\n",
    "            transforms.Resize((64, 64)),\n",
    "            transforms.ToTensor()\n",
    "        ])\n",
    "\n",
    "        img_tensor = transform(image).unsqueeze(0)\n",
    "\n",
    "        cbam = CBAM(in_c=3, ratio=1)\n",
    "        cbam.eval()\n",
    "\n",
    "        with torch.no_grad():\n",
    "            out_tensor = cbam(img_tensor).squeeze().clamp(0, 1)\n",
    "\n",
    "        def tensor_to_image(tensor):\n",
    "            return tensor.permute(1, 2, 0).cpu().numpy()\n",
    "\n",
    "        plt.figure(figsize=(10, 4))\n",
    "        plt.subplot(1, 2, 1)\n",
    "        plt.title(f'Original - {img_name}')\n",
    "        plt.imshow(tensor_to_image(img_tensor.squeeze()))\n",
    "        plt.axis('off')\n",
    "\n",
    "        plt.subplot(1, 2, 2)\n",
    "        plt.title(f'After CBAM - {img_name}')\n",
    "        plt.imshow(tensor_to_image(out_tensor))\n",
    "        plt.axis('off')\n",
    "\n",
    "        plt.show()"
   ]
  }
 ],
 "metadata": {
  "kernelspec": {
   "display_name": "ai_env",
   "language": "python",
   "name": "python3"
  },
  "language_info": {
   "codemirror_mode": {
    "name": "ipython",
    "version": 3
   },
   "file_extension": ".py",
   "mimetype": "text/x-python",
   "name": "python",
   "nbconvert_exporter": "python",
   "pygments_lexer": "ipython3",
   "version": "3.10.16"
  }
 },
 "nbformat": 4,
 "nbformat_minor": 5
}
