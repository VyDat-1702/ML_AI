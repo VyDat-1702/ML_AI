{
 "cells": [
  {
   "cell_type": "code",
   "execution_count": 3,
   "metadata": {},
   "outputs": [],
   "source": [
    "import numpy as np\n",
    "import pandas as pd\n",
    "import random\n",
    "import matplotlib.pyplot as plt"
   ]
  },
  {
   "cell_type": "code",
   "execution_count": 4,
   "metadata": {},
   "outputs": [],
   "source": [
    "df = pd.read_csv('apple_quality.csv')"
   ]
  },
  {
   "cell_type": "code",
   "execution_count": 5,
   "metadata": {},
   "outputs": [
    {
     "data": {
      "text/html": [
       "<div>\n",
       "<style scoped>\n",
       "    .dataframe tbody tr th:only-of-type {\n",
       "        vertical-align: middle;\n",
       "    }\n",
       "\n",
       "    .dataframe tbody tr th {\n",
       "        vertical-align: top;\n",
       "    }\n",
       "\n",
       "    .dataframe thead th {\n",
       "        text-align: right;\n",
       "    }\n",
       "</style>\n",
       "<table border=\"1\" class=\"dataframe\">\n",
       "  <thead>\n",
       "    <tr style=\"text-align: right;\">\n",
       "      <th></th>\n",
       "      <th>A_id</th>\n",
       "      <th>Size</th>\n",
       "      <th>Weight</th>\n",
       "      <th>Sweetness</th>\n",
       "      <th>Crunchiness</th>\n",
       "      <th>Juiciness</th>\n",
       "      <th>Ripeness</th>\n",
       "      <th>Acidity</th>\n",
       "      <th>Quality</th>\n",
       "    </tr>\n",
       "  </thead>\n",
       "  <tbody>\n",
       "    <tr>\n",
       "      <th>0</th>\n",
       "      <td>0</td>\n",
       "      <td>-3.970049</td>\n",
       "      <td>-2.512336</td>\n",
       "      <td>5.346330</td>\n",
       "      <td>-1.012009</td>\n",
       "      <td>1.844900</td>\n",
       "      <td>0.329840</td>\n",
       "      <td>-0.491590</td>\n",
       "      <td>good</td>\n",
       "    </tr>\n",
       "    <tr>\n",
       "      <th>1</th>\n",
       "      <td>1</td>\n",
       "      <td>-1.195217</td>\n",
       "      <td>-2.839257</td>\n",
       "      <td>3.664059</td>\n",
       "      <td>1.588232</td>\n",
       "      <td>0.853286</td>\n",
       "      <td>0.867530</td>\n",
       "      <td>-0.722809</td>\n",
       "      <td>good</td>\n",
       "    </tr>\n",
       "    <tr>\n",
       "      <th>2</th>\n",
       "      <td>2</td>\n",
       "      <td>-0.292024</td>\n",
       "      <td>-1.351282</td>\n",
       "      <td>-1.738429</td>\n",
       "      <td>-0.342616</td>\n",
       "      <td>2.838636</td>\n",
       "      <td>-0.038033</td>\n",
       "      <td>2.621636</td>\n",
       "      <td>bad</td>\n",
       "    </tr>\n",
       "    <tr>\n",
       "      <th>3</th>\n",
       "      <td>3</td>\n",
       "      <td>-0.657196</td>\n",
       "      <td>-2.271627</td>\n",
       "      <td>1.324874</td>\n",
       "      <td>-0.097875</td>\n",
       "      <td>3.637970</td>\n",
       "      <td>-3.413761</td>\n",
       "      <td>0.790723</td>\n",
       "      <td>good</td>\n",
       "    </tr>\n",
       "    <tr>\n",
       "      <th>4</th>\n",
       "      <td>4</td>\n",
       "      <td>1.364217</td>\n",
       "      <td>-1.296612</td>\n",
       "      <td>-0.384658</td>\n",
       "      <td>-0.553006</td>\n",
       "      <td>3.030874</td>\n",
       "      <td>-1.303849</td>\n",
       "      <td>0.501984</td>\n",
       "      <td>good</td>\n",
       "    </tr>\n",
       "    <tr>\n",
       "      <th>5</th>\n",
       "      <td>5</td>\n",
       "      <td>-3.425400</td>\n",
       "      <td>-1.409082</td>\n",
       "      <td>-1.913511</td>\n",
       "      <td>-0.555775</td>\n",
       "      <td>-3.853071</td>\n",
       "      <td>1.914616</td>\n",
       "      <td>-2.981523</td>\n",
       "      <td>bad</td>\n",
       "    </tr>\n",
       "    <tr>\n",
       "      <th>6</th>\n",
       "      <td>6</td>\n",
       "      <td>1.331606</td>\n",
       "      <td>1.635956</td>\n",
       "      <td>0.875974</td>\n",
       "      <td>-1.677798</td>\n",
       "      <td>3.106344</td>\n",
       "      <td>-1.847417</td>\n",
       "      <td>2.414171</td>\n",
       "      <td>good</td>\n",
       "    </tr>\n",
       "    <tr>\n",
       "      <th>7</th>\n",
       "      <td>7</td>\n",
       "      <td>-1.995462</td>\n",
       "      <td>-0.428958</td>\n",
       "      <td>1.530644</td>\n",
       "      <td>-0.742972</td>\n",
       "      <td>0.158834</td>\n",
       "      <td>0.974438</td>\n",
       "      <td>-1.470125</td>\n",
       "      <td>good</td>\n",
       "    </tr>\n",
       "    <tr>\n",
       "      <th>8</th>\n",
       "      <td>8</td>\n",
       "      <td>-3.867632</td>\n",
       "      <td>-3.734514</td>\n",
       "      <td>0.986429</td>\n",
       "      <td>-1.207655</td>\n",
       "      <td>2.292873</td>\n",
       "      <td>4.080921</td>\n",
       "      <td>-4.871905</td>\n",
       "      <td>bad</td>\n",
       "    </tr>\n",
       "    <tr>\n",
       "      <th>9</th>\n",
       "      <td>9</td>\n",
       "      <td>-0.727983</td>\n",
       "      <td>-0.442820</td>\n",
       "      <td>-4.092223</td>\n",
       "      <td>0.597513</td>\n",
       "      <td>0.393714</td>\n",
       "      <td>1.620857</td>\n",
       "      <td>2.185608</td>\n",
       "      <td>bad</td>\n",
       "    </tr>\n",
       "    <tr>\n",
       "      <th>10</th>\n",
       "      <td>10</td>\n",
       "      <td>-2.699336</td>\n",
       "      <td>-1.329507</td>\n",
       "      <td>-1.418507</td>\n",
       "      <td>-0.625546</td>\n",
       "      <td>2.371074</td>\n",
       "      <td>3.403165</td>\n",
       "      <td>-2.810808</td>\n",
       "      <td>bad</td>\n",
       "    </tr>\n",
       "    <tr>\n",
       "      <th>11</th>\n",
       "      <td>11</td>\n",
       "      <td>2.450960</td>\n",
       "      <td>-0.564177</td>\n",
       "      <td>-1.635041</td>\n",
       "      <td>0.942400</td>\n",
       "      <td>-2.087317</td>\n",
       "      <td>1.214322</td>\n",
       "      <td>1.294324</td>\n",
       "      <td>good</td>\n",
       "    </tr>\n",
       "    <tr>\n",
       "      <th>12</th>\n",
       "      <td>12</td>\n",
       "      <td>-0.170812</td>\n",
       "      <td>-1.867271</td>\n",
       "      <td>-1.771845</td>\n",
       "      <td>2.413155</td>\n",
       "      <td>-3.094555</td>\n",
       "      <td>-0.624884</td>\n",
       "      <td>-2.076114</td>\n",
       "      <td>bad</td>\n",
       "    </tr>\n",
       "    <tr>\n",
       "      <th>13</th>\n",
       "      <td>13</td>\n",
       "      <td>-1.345531</td>\n",
       "      <td>-1.623701</td>\n",
       "      <td>2.044144</td>\n",
       "      <td>1.754813</td>\n",
       "      <td>0.997567</td>\n",
       "      <td>0.434180</td>\n",
       "      <td>1.724026</td>\n",
       "      <td>good</td>\n",
       "    </tr>\n",
       "    <tr>\n",
       "      <th>14</th>\n",
       "      <td>14</td>\n",
       "      <td>2.839581</td>\n",
       "      <td>-0.344798</td>\n",
       "      <td>-1.019797</td>\n",
       "      <td>0.894581</td>\n",
       "      <td>-1.300061</td>\n",
       "      <td>0.582379</td>\n",
       "      <td>1.709708</td>\n",
       "      <td>good</td>\n",
       "    </tr>\n",
       "    <tr>\n",
       "      <th>15</th>\n",
       "      <td>15</td>\n",
       "      <td>-2.659887</td>\n",
       "      <td>-2.795684</td>\n",
       "      <td>4.230404</td>\n",
       "      <td>0.697550</td>\n",
       "      <td>2.180911</td>\n",
       "      <td>-0.088775</td>\n",
       "      <td>-1.083621</td>\n",
       "      <td>good</td>\n",
       "    </tr>\n",
       "    <tr>\n",
       "      <th>16</th>\n",
       "      <td>16</td>\n",
       "      <td>-1.468952</td>\n",
       "      <td>-1.950360</td>\n",
       "      <td>-2.214373</td>\n",
       "      <td>0.909759</td>\n",
       "      <td>2.864449</td>\n",
       "      <td>3.965956</td>\n",
       "      <td>-0.558209</td>\n",
       "      <td>bad</td>\n",
       "    </tr>\n",
       "    <tr>\n",
       "      <th>17</th>\n",
       "      <td>17</td>\n",
       "      <td>-0.074370</td>\n",
       "      <td>-4.714750</td>\n",
       "      <td>0.249768</td>\n",
       "      <td>2.935319</td>\n",
       "      <td>1.409755</td>\n",
       "      <td>-2.643810</td>\n",
       "      <td>1.250970</td>\n",
       "      <td>good</td>\n",
       "    </tr>\n",
       "    <tr>\n",
       "      <th>18</th>\n",
       "      <td>18</td>\n",
       "      <td>-0.302364</td>\n",
       "      <td>1.724396</td>\n",
       "      <td>-2.442337</td>\n",
       "      <td>3.465108</td>\n",
       "      <td>0.449792</td>\n",
       "      <td>-0.074362</td>\n",
       "      <td>2.493782</td>\n",
       "      <td>bad</td>\n",
       "    </tr>\n",
       "    <tr>\n",
       "      <th>19</th>\n",
       "      <td>19</td>\n",
       "      <td>-2.108050</td>\n",
       "      <td>0.356467</td>\n",
       "      <td>-1.156193</td>\n",
       "      <td>4.326723</td>\n",
       "      <td>1.561543</td>\n",
       "      <td>-4.630174</td>\n",
       "      <td>-1.376657</td>\n",
       "      <td>good</td>\n",
       "    </tr>\n",
       "  </tbody>\n",
       "</table>\n",
       "</div>"
      ],
      "text/plain": [
       "    A_id      Size    Weight  Sweetness  Crunchiness  Juiciness  Ripeness  \\\n",
       "0      0 -3.970049 -2.512336   5.346330    -1.012009   1.844900  0.329840   \n",
       "1      1 -1.195217 -2.839257   3.664059     1.588232   0.853286  0.867530   \n",
       "2      2 -0.292024 -1.351282  -1.738429    -0.342616   2.838636 -0.038033   \n",
       "3      3 -0.657196 -2.271627   1.324874    -0.097875   3.637970 -3.413761   \n",
       "4      4  1.364217 -1.296612  -0.384658    -0.553006   3.030874 -1.303849   \n",
       "5      5 -3.425400 -1.409082  -1.913511    -0.555775  -3.853071  1.914616   \n",
       "6      6  1.331606  1.635956   0.875974    -1.677798   3.106344 -1.847417   \n",
       "7      7 -1.995462 -0.428958   1.530644    -0.742972   0.158834  0.974438   \n",
       "8      8 -3.867632 -3.734514   0.986429    -1.207655   2.292873  4.080921   \n",
       "9      9 -0.727983 -0.442820  -4.092223     0.597513   0.393714  1.620857   \n",
       "10    10 -2.699336 -1.329507  -1.418507    -0.625546   2.371074  3.403165   \n",
       "11    11  2.450960 -0.564177  -1.635041     0.942400  -2.087317  1.214322   \n",
       "12    12 -0.170812 -1.867271  -1.771845     2.413155  -3.094555 -0.624884   \n",
       "13    13 -1.345531 -1.623701   2.044144     1.754813   0.997567  0.434180   \n",
       "14    14  2.839581 -0.344798  -1.019797     0.894581  -1.300061  0.582379   \n",
       "15    15 -2.659887 -2.795684   4.230404     0.697550   2.180911 -0.088775   \n",
       "16    16 -1.468952 -1.950360  -2.214373     0.909759   2.864449  3.965956   \n",
       "17    17 -0.074370 -4.714750   0.249768     2.935319   1.409755 -2.643810   \n",
       "18    18 -0.302364  1.724396  -2.442337     3.465108   0.449792 -0.074362   \n",
       "19    19 -2.108050  0.356467  -1.156193     4.326723   1.561543 -4.630174   \n",
       "\n",
       "     Acidity Quality  \n",
       "0  -0.491590    good  \n",
       "1  -0.722809    good  \n",
       "2   2.621636     bad  \n",
       "3   0.790723    good  \n",
       "4   0.501984    good  \n",
       "5  -2.981523     bad  \n",
       "6   2.414171    good  \n",
       "7  -1.470125    good  \n",
       "8  -4.871905     bad  \n",
       "9   2.185608     bad  \n",
       "10 -2.810808     bad  \n",
       "11  1.294324    good  \n",
       "12 -2.076114     bad  \n",
       "13  1.724026    good  \n",
       "14  1.709708    good  \n",
       "15 -1.083621    good  \n",
       "16 -0.558209     bad  \n",
       "17  1.250970    good  \n",
       "18  2.493782     bad  \n",
       "19 -1.376657    good  "
      ]
     },
     "execution_count": 5,
     "metadata": {},
     "output_type": "execute_result"
    }
   ],
   "source": [
    "df.head(20)"
   ]
  },
  {
   "cell_type": "code",
   "execution_count": 6,
   "metadata": {},
   "outputs": [],
   "source": [
    "x = df.iloc[:,1:8]\n",
    "y = np.array([1 if i == 'good' else 0 for i in df['Quality']], dtype='float')\n",
    "x_train = x.iloc[:3000, :]\n",
    "x_test = x.iloc[3000:, :]\n",
    "y_train = y[:3000]\n",
    "y_test = y[3000:]"
   ]
  },
  {
   "cell_type": "code",
   "execution_count": 7,
   "metadata": {},
   "outputs": [
    {
     "data": {
      "text/html": [
       "<div>\n",
       "<style scoped>\n",
       "    .dataframe tbody tr th:only-of-type {\n",
       "        vertical-align: middle;\n",
       "    }\n",
       "\n",
       "    .dataframe tbody tr th {\n",
       "        vertical-align: top;\n",
       "    }\n",
       "\n",
       "    .dataframe thead th {\n",
       "        text-align: right;\n",
       "    }\n",
       "</style>\n",
       "<table border=\"1\" class=\"dataframe\">\n",
       "  <thead>\n",
       "    <tr style=\"text-align: right;\">\n",
       "      <th></th>\n",
       "      <th>Size</th>\n",
       "      <th>Weight</th>\n",
       "      <th>Sweetness</th>\n",
       "      <th>Crunchiness</th>\n",
       "      <th>Juiciness</th>\n",
       "      <th>Ripeness</th>\n",
       "      <th>Acidity</th>\n",
       "    </tr>\n",
       "  </thead>\n",
       "  <tbody>\n",
       "    <tr>\n",
       "      <th>0</th>\n",
       "      <td>-3.970049</td>\n",
       "      <td>-2.512336</td>\n",
       "      <td>5.346330</td>\n",
       "      <td>-1.012009</td>\n",
       "      <td>1.844900</td>\n",
       "      <td>0.329840</td>\n",
       "      <td>-0.491590</td>\n",
       "    </tr>\n",
       "    <tr>\n",
       "      <th>1</th>\n",
       "      <td>-1.195217</td>\n",
       "      <td>-2.839257</td>\n",
       "      <td>3.664059</td>\n",
       "      <td>1.588232</td>\n",
       "      <td>0.853286</td>\n",
       "      <td>0.867530</td>\n",
       "      <td>-0.722809</td>\n",
       "    </tr>\n",
       "    <tr>\n",
       "      <th>2</th>\n",
       "      <td>-0.292024</td>\n",
       "      <td>-1.351282</td>\n",
       "      <td>-1.738429</td>\n",
       "      <td>-0.342616</td>\n",
       "      <td>2.838636</td>\n",
       "      <td>-0.038033</td>\n",
       "      <td>2.621636</td>\n",
       "    </tr>\n",
       "    <tr>\n",
       "      <th>3</th>\n",
       "      <td>-0.657196</td>\n",
       "      <td>-2.271627</td>\n",
       "      <td>1.324874</td>\n",
       "      <td>-0.097875</td>\n",
       "      <td>3.637970</td>\n",
       "      <td>-3.413761</td>\n",
       "      <td>0.790723</td>\n",
       "    </tr>\n",
       "    <tr>\n",
       "      <th>4</th>\n",
       "      <td>1.364217</td>\n",
       "      <td>-1.296612</td>\n",
       "      <td>-0.384658</td>\n",
       "      <td>-0.553006</td>\n",
       "      <td>3.030874</td>\n",
       "      <td>-1.303849</td>\n",
       "      <td>0.501984</td>\n",
       "    </tr>\n",
       "    <tr>\n",
       "      <th>...</th>\n",
       "      <td>...</td>\n",
       "      <td>...</td>\n",
       "      <td>...</td>\n",
       "      <td>...</td>\n",
       "      <td>...</td>\n",
       "      <td>...</td>\n",
       "      <td>...</td>\n",
       "    </tr>\n",
       "    <tr>\n",
       "      <th>2995</th>\n",
       "      <td>0.951363</td>\n",
       "      <td>-2.565243</td>\n",
       "      <td>2.344982</td>\n",
       "      <td>2.640555</td>\n",
       "      <td>-3.296170</td>\n",
       "      <td>-0.297230</td>\n",
       "      <td>1.491628</td>\n",
       "    </tr>\n",
       "    <tr>\n",
       "      <th>2996</th>\n",
       "      <td>-0.583026</td>\n",
       "      <td>0.097493</td>\n",
       "      <td>0.357052</td>\n",
       "      <td>-0.211640</td>\n",
       "      <td>-1.250563</td>\n",
       "      <td>1.841531</td>\n",
       "      <td>-1.998825</td>\n",
       "    </tr>\n",
       "    <tr>\n",
       "      <th>2997</th>\n",
       "      <td>1.284972</td>\n",
       "      <td>0.849862</td>\n",
       "      <td>-1.540320</td>\n",
       "      <td>0.692406</td>\n",
       "      <td>-2.283221</td>\n",
       "      <td>1.396857</td>\n",
       "      <td>2.801796</td>\n",
       "    </tr>\n",
       "    <tr>\n",
       "      <th>2998</th>\n",
       "      <td>-3.142309</td>\n",
       "      <td>-1.273307</td>\n",
       "      <td>-0.459076</td>\n",
       "      <td>-0.349882</td>\n",
       "      <td>0.812774</td>\n",
       "      <td>0.621236</td>\n",
       "      <td>-4.199263</td>\n",
       "    </tr>\n",
       "    <tr>\n",
       "      <th>2999</th>\n",
       "      <td>0.324365</td>\n",
       "      <td>-1.022385</td>\n",
       "      <td>0.200602</td>\n",
       "      <td>1.133101</td>\n",
       "      <td>-1.079206</td>\n",
       "      <td>2.579695</td>\n",
       "      <td>1.625842</td>\n",
       "    </tr>\n",
       "  </tbody>\n",
       "</table>\n",
       "<p>3000 rows × 7 columns</p>\n",
       "</div>"
      ],
      "text/plain": [
       "          Size    Weight  Sweetness  Crunchiness  Juiciness  Ripeness  \\\n",
       "0    -3.970049 -2.512336   5.346330    -1.012009   1.844900  0.329840   \n",
       "1    -1.195217 -2.839257   3.664059     1.588232   0.853286  0.867530   \n",
       "2    -0.292024 -1.351282  -1.738429    -0.342616   2.838636 -0.038033   \n",
       "3    -0.657196 -2.271627   1.324874    -0.097875   3.637970 -3.413761   \n",
       "4     1.364217 -1.296612  -0.384658    -0.553006   3.030874 -1.303849   \n",
       "...        ...       ...        ...          ...        ...       ...   \n",
       "2995  0.951363 -2.565243   2.344982     2.640555  -3.296170 -0.297230   \n",
       "2996 -0.583026  0.097493   0.357052    -0.211640  -1.250563  1.841531   \n",
       "2997  1.284972  0.849862  -1.540320     0.692406  -2.283221  1.396857   \n",
       "2998 -3.142309 -1.273307  -0.459076    -0.349882   0.812774  0.621236   \n",
       "2999  0.324365 -1.022385   0.200602     1.133101  -1.079206  2.579695   \n",
       "\n",
       "       Acidity  \n",
       "0    -0.491590  \n",
       "1    -0.722809  \n",
       "2     2.621636  \n",
       "3     0.790723  \n",
       "4     0.501984  \n",
       "...        ...  \n",
       "2995  1.491628  \n",
       "2996 -1.998825  \n",
       "2997  2.801796  \n",
       "2998 -4.199263  \n",
       "2999  1.625842  \n",
       "\n",
       "[3000 rows x 7 columns]"
      ]
     },
     "execution_count": 7,
     "metadata": {},
     "output_type": "execute_result"
    }
   ],
   "source": [
    "x_train"
   ]
  },
  {
   "cell_type": "code",
   "execution_count": 8,
   "metadata": {},
   "outputs": [],
   "source": [
    "x_train = x_train.to_numpy()"
   ]
  },
  {
   "cell_type": "code",
   "execution_count": 9,
   "metadata": {},
   "outputs": [],
   "source": [
    "x_test = x_test.to_numpy()"
   ]
  },
  {
   "cell_type": "code",
   "execution_count": 10,
   "metadata": {},
   "outputs": [
    {
     "data": {
      "text/plain": [
       "array([1., 1., 0., ..., 0., 0., 1.])"
      ]
     },
     "execution_count": 10,
     "metadata": {},
     "output_type": "execute_result"
    }
   ],
   "source": [
    "y_train"
   ]
  },
  {
   "cell_type": "code",
   "execution_count": 11,
   "metadata": {},
   "outputs": [],
   "source": [
    "def sigmoid(z):\n",
    "    return 1/(1+np.exp(-z))"
   ]
  },
  {
   "cell_type": "code",
   "execution_count": 12,
   "metadata": {},
   "outputs": [],
   "source": [
    "def compute_cost(x,y,w,b):\n",
    "    cost = 0\n",
    "    loss = 0\n",
    "    m,n = x.shape\n",
    "    for i in range(m):\n",
    "        z = np.dot(x[i], w) + b\n",
    "        g = sigmoid(z)\n",
    "        loss += -y[i]*np.log(g) - (1-y[i])*np.log(1-g)\n",
    "    cost = loss/m\n",
    "    return cost"
   ]
  },
  {
   "cell_type": "code",
   "execution_count": 13,
   "metadata": {},
   "outputs": [],
   "source": [
    "def compute_gradient(x,y,w,b,):\n",
    "    m,n = x.shape\n",
    "    dj_dw = np.zeros(w.shape)\n",
    "    dj_db = 0\n",
    "    for i in range(m):\n",
    "        z = np.dot(x[i], w) +b\n",
    "        g = sigmoid(z)\n",
    "        error = g - y[i]\n",
    "        dj_dw += error*x[i]\n",
    "        dj_db += error\n",
    "    dj_dw /= m\n",
    "    dj_db /= m\n",
    "    return dj_dw, dj_db    "
   ]
  },
  {
   "cell_type": "code",
   "execution_count": 14,
   "metadata": {},
   "outputs": [],
   "source": [
    "def gradient_descent(x,y,w,b, alpha = 0.005, epoch = 3000):\n",
    "    accuracies = []\n",
    "    cost = []\n",
    "    weight = []\n",
    "    _,n= x.shape\n",
    "    for i in range(epoch):\n",
    "        tmp_dj_dw, tmp_dj_db = compute_gradient(x, y, w, b)\n",
    "        for j in range(n):\n",
    "            w[j] = w[j] - alpha * tmp_dj_dw[j]\n",
    "        b = b - alpha*tmp_dj_db\n",
    "        weight.append([w, b])\n",
    "        accuracies.append(accuracy(x_test,y_test,w,b))\n",
    "        cost.append(compute_cost(x,y,w,b))\n",
    "    return weight, accuracies, cost"
   ]
  },
  {
   "cell_type": "code",
   "execution_count": 15,
   "metadata": {},
   "outputs": [],
   "source": [
    "def accuracy(x, y, w, b):\n",
    "    m = len(y)\n",
    "    count = 0\n",
    "    yhat = np.zeros([m,1])\n",
    "    for i in range(m):\n",
    "        f = np.dot(x[i], w) + b\n",
    "        yhat[i] = 1 if f > 0.5 else 0\n",
    "        if yhat[i] == y[i]: count += 1 \n",
    "    acc = 100*count/m\n",
    "    return acc"
   ]
  },
  {
   "cell_type": "code",
   "execution_count": 16,
   "metadata": {},
   "outputs": [
    {
     "data": {
      "text/plain": [
       "array([0.71270412, 0.75890697, 0.65567679, 0.14566363, 0.50476825,\n",
       "       0.16849294, 0.89544831])"
      ]
     },
     "execution_count": 16,
     "metadata": {},
     "output_type": "execute_result"
    }
   ],
   "source": [
    "init_w = np.random.rand(7)\n",
    "init_b = random.random()\n",
    "init_w"
   ]
  },
  {
   "cell_type": "code",
   "execution_count": 17,
   "metadata": {},
   "outputs": [],
   "source": [
    "weight, accu, cost = gradient_descent(x_train, y_train, init_w, init_b)"
   ]
  },
  {
   "cell_type": "code",
   "execution_count": 18,
   "metadata": {},
   "outputs": [],
   "source": [
    "index_max = accu.index(max(accu))\n",
    "w = weight[index_max][0]\n",
    "b = weight[index_max][1]"
   ]
  },
  {
   "cell_type": "code",
   "execution_count": 19,
   "metadata": {},
   "outputs": [
    {
     "data": {
      "text/plain": [
       "array([ 0.69557264,  0.29460496,  0.62621337,  0.04604557,  0.45365358,\n",
       "       -0.10049255, -0.29785197])"
      ]
     },
     "execution_count": 19,
     "metadata": {},
     "output_type": "execute_result"
    }
   ],
   "source": [
    "w"
   ]
  },
  {
   "cell_type": "code",
   "execution_count": 20,
   "metadata": {},
   "outputs": [
    {
     "data": {
      "text/plain": [
       "np.float64(0.7142330476019384)"
      ]
     },
     "execution_count": 20,
     "metadata": {},
     "output_type": "execute_result"
    }
   ],
   "source": [
    "b"
   ]
  },
  {
   "cell_type": "code",
   "execution_count": 21,
   "metadata": {},
   "outputs": [
    {
     "name": "stdout",
     "output_type": "stream",
     "text": [
      "72.7\n"
     ]
    },
    {
     "data": {
      "text/plain": [
       "[<matplotlib.lines.Line2D at 0x74c441f25d00>]"
      ]
     },
     "execution_count": 21,
     "metadata": {},
     "output_type": "execute_result"
    },
    {
     "data": {
      "image/png": "[encoded data removed]",
      "text/plain": [
       "<Figure size 640x480 with 1 Axes>"
      ]
     },
     "metadata": {},
     "output_type": "display_data"
    }
   ],
   "source": [
    "acc =accuracy(x_test, y_test, w, b)\n",
    "print(f'{acc}')\n",
    "plt.plot(accu)"
   ]
  },
  {
   "cell_type": "code",
   "execution_count": 22,
   "metadata": {},
   "outputs": [
    {
     "data": {
      "text/plain": [
       "[<matplotlib.lines.Line2D at 0x74c441cc09e0>]"
      ]
     },
     "execution_count": 22,
     "metadata": {},
     "output_type": "execute_result"
    },
    {
     "data": {
      "image/png": "[encoded data removed]",
      "text/plain": [
       "<Figure size 640x480 with 1 Axes>"
      ]
     },
     "metadata": {},
     "output_type": "display_data"
    }
   ],
   "source": [
    "plt.plot(cost)"
   ]
  },
  {
   "cell_type": "code",
   "execution_count": null,
   "metadata": {},
   "outputs": [],
   "source": []
  }
 ],
 "metadata": {
  "kernelspec": {
   "display_name": "venv",
   "language": "python",
   "name": "python3"
  },
  "language_info": {
   "codemirror_mode": {
    "name": "ipython",
    "version": 3
   },
   "file_extension": ".py",
   "mimetype": "text/x-python",
   "name": "python",
   "nbconvert_exporter": "python",
   "pygments_lexer": "ipython3",
   "version": "3.12.3"
  }
 },
 "nbformat": 4,
 "nbformat_minor": 2
}
