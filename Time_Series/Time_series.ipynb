{
 "cells": [
  {
   "cell_type": "code",
   "execution_count": 557,
   "metadata": {},
   "outputs": [],
   "source": [
    "import torch\n",
    "import torch.nn as nn\n",
    "import pandas as pd\n",
    "import numpy as np\n",
    "import torch.nn.functional as F\n",
    "from torch.utils.data import DataLoader, Dataset\n",
    "from sklearn.model_selection import train_test_split\n",
    "from sklearn.preprocessing import StandardScaler, LabelEncoder\n",
    "import matplotlib.pyplot as plt\n",
    "from torch.optim.lr_scheduler import ReduceLROnPlateau\n",
    "import seaborn as sns\n",
    "from tqdm import tqdm\n"
   ]
  },
  {
   "cell_type": "markdown",
   "metadata": {},
   "source": [
    "# Data Loader"
   ]
  },
  {
   "cell_type": "code",
   "execution_count": 535,
   "metadata": {},
   "outputs": [],
   "source": [
    "df = pd.read_csv('/home/vydat/Code/ML_AI/Time_Series/Data/features_3_sec.csv')"
   ]
  },
  {
   "cell_type": "code",
   "execution_count": 536,
   "metadata": {},
   "outputs": [
    {
     "data": {
      "text/html": [
       "<div>\n",
       "<style scoped>\n",
       "    .dataframe tbody tr th:only-of-type {\n",
       "        vertical-align: middle;\n",
       "    }\n",
       "\n",
       "    .dataframe tbody tr th {\n",
       "        vertical-align: top;\n",
       "    }\n",
       "\n",
       "    .dataframe thead th {\n",
       "        text-align: right;\n",
       "    }\n",
       "</style>\n",
       "<table border=\"1\" class=\"dataframe\">\n",
       "  <thead>\n",
       "    <tr style=\"text-align: right;\">\n",
       "      <th></th>\n",
       "      <th>filename</th>\n",
       "      <th>length</th>\n",
       "      <th>chroma_stft_mean</th>\n",
       "      <th>chroma_stft_var</th>\n",
       "      <th>rms_mean</th>\n",
       "      <th>rms_var</th>\n",
       "      <th>spectral_centroid_mean</th>\n",
       "      <th>spectral_centroid_var</th>\n",
       "      <th>spectral_bandwidth_mean</th>\n",
       "      <th>spectral_bandwidth_var</th>\n",
       "      <th>...</th>\n",
       "      <th>mfcc16_var</th>\n",
       "      <th>mfcc17_mean</th>\n",
       "      <th>mfcc17_var</th>\n",
       "      <th>mfcc18_mean</th>\n",
       "      <th>mfcc18_var</th>\n",
       "      <th>mfcc19_mean</th>\n",
       "      <th>mfcc19_var</th>\n",
       "      <th>mfcc20_mean</th>\n",
       "      <th>mfcc20_var</th>\n",
       "      <th>label</th>\n",
       "    </tr>\n",
       "  </thead>\n",
       "  <tbody>\n",
       "    <tr>\n",
       "      <th>0</th>\n",
       "      <td>blues.00000.0.wav</td>\n",
       "      <td>66149</td>\n",
       "      <td>0.335406</td>\n",
       "      <td>0.091048</td>\n",
       "      <td>0.130405</td>\n",
       "      <td>0.003521</td>\n",
       "      <td>1773.065032</td>\n",
       "      <td>167541.630869</td>\n",
       "      <td>1972.744388</td>\n",
       "      <td>117335.771563</td>\n",
       "      <td>...</td>\n",
       "      <td>39.687145</td>\n",
       "      <td>-3.241280</td>\n",
       "      <td>36.488243</td>\n",
       "      <td>0.722209</td>\n",
       "      <td>38.099152</td>\n",
       "      <td>-5.050335</td>\n",
       "      <td>33.618073</td>\n",
       "      <td>-0.243027</td>\n",
       "      <td>43.771767</td>\n",
       "      <td>blues</td>\n",
       "    </tr>\n",
       "    <tr>\n",
       "      <th>1</th>\n",
       "      <td>blues.00000.1.wav</td>\n",
       "      <td>66149</td>\n",
       "      <td>0.343065</td>\n",
       "      <td>0.086147</td>\n",
       "      <td>0.112699</td>\n",
       "      <td>0.001450</td>\n",
       "      <td>1816.693777</td>\n",
       "      <td>90525.690866</td>\n",
       "      <td>2010.051501</td>\n",
       "      <td>65671.875673</td>\n",
       "      <td>...</td>\n",
       "      <td>64.748276</td>\n",
       "      <td>-6.055294</td>\n",
       "      <td>40.677654</td>\n",
       "      <td>0.159015</td>\n",
       "      <td>51.264091</td>\n",
       "      <td>-2.837699</td>\n",
       "      <td>97.030830</td>\n",
       "      <td>5.784063</td>\n",
       "      <td>59.943081</td>\n",
       "      <td>blues</td>\n",
       "    </tr>\n",
       "    <tr>\n",
       "      <th>2</th>\n",
       "      <td>blues.00000.2.wav</td>\n",
       "      <td>66149</td>\n",
       "      <td>0.346815</td>\n",
       "      <td>0.092243</td>\n",
       "      <td>0.132003</td>\n",
       "      <td>0.004620</td>\n",
       "      <td>1788.539719</td>\n",
       "      <td>111407.437613</td>\n",
       "      <td>2084.565132</td>\n",
       "      <td>75124.921716</td>\n",
       "      <td>...</td>\n",
       "      <td>67.336563</td>\n",
       "      <td>-1.768610</td>\n",
       "      <td>28.348579</td>\n",
       "      <td>2.378768</td>\n",
       "      <td>45.717648</td>\n",
       "      <td>-1.938424</td>\n",
       "      <td>53.050835</td>\n",
       "      <td>2.517375</td>\n",
       "      <td>33.105122</td>\n",
       "      <td>blues</td>\n",
       "    </tr>\n",
       "    <tr>\n",
       "      <th>3</th>\n",
       "      <td>blues.00000.3.wav</td>\n",
       "      <td>66149</td>\n",
       "      <td>0.363639</td>\n",
       "      <td>0.086856</td>\n",
       "      <td>0.132565</td>\n",
       "      <td>0.002448</td>\n",
       "      <td>1655.289045</td>\n",
       "      <td>111952.284517</td>\n",
       "      <td>1960.039988</td>\n",
       "      <td>82913.639269</td>\n",
       "      <td>...</td>\n",
       "      <td>47.739452</td>\n",
       "      <td>-3.841155</td>\n",
       "      <td>28.337118</td>\n",
       "      <td>1.218588</td>\n",
       "      <td>34.770935</td>\n",
       "      <td>-3.580352</td>\n",
       "      <td>50.836224</td>\n",
       "      <td>3.630866</td>\n",
       "      <td>32.023678</td>\n",
       "      <td>blues</td>\n",
       "    </tr>\n",
       "    <tr>\n",
       "      <th>4</th>\n",
       "      <td>blues.00000.4.wav</td>\n",
       "      <td>66149</td>\n",
       "      <td>0.335579</td>\n",
       "      <td>0.088129</td>\n",
       "      <td>0.143289</td>\n",
       "      <td>0.001701</td>\n",
       "      <td>1630.656199</td>\n",
       "      <td>79667.267654</td>\n",
       "      <td>1948.503884</td>\n",
       "      <td>60204.020268</td>\n",
       "      <td>...</td>\n",
       "      <td>30.336359</td>\n",
       "      <td>0.664582</td>\n",
       "      <td>45.880913</td>\n",
       "      <td>1.689446</td>\n",
       "      <td>51.363583</td>\n",
       "      <td>-3.392489</td>\n",
       "      <td>26.738789</td>\n",
       "      <td>0.536961</td>\n",
       "      <td>29.146694</td>\n",
       "      <td>blues</td>\n",
       "    </tr>\n",
       "  </tbody>\n",
       "</table>\n",
       "<p>5 rows × 60 columns</p>\n",
       "</div>"
      ],
      "text/plain": [
       "            filename  length  chroma_stft_mean  chroma_stft_var  rms_mean  \\\n",
       "0  blues.00000.0.wav   66149          0.335406         0.091048  0.130405   \n",
       "1  blues.00000.1.wav   66149          0.343065         0.086147  0.112699   \n",
       "2  blues.00000.2.wav   66149          0.346815         0.092243  0.132003   \n",
       "3  blues.00000.3.wav   66149          0.363639         0.086856  0.132565   \n",
       "4  blues.00000.4.wav   66149          0.335579         0.088129  0.143289   \n",
       "\n",
       "    rms_var  spectral_centroid_mean  spectral_centroid_var  \\\n",
       "0  0.003521             1773.065032          167541.630869   \n",
       "1  0.001450             1816.693777           90525.690866   \n",
       "2  0.004620             1788.539719          111407.437613   \n",
       "3  0.002448             1655.289045          111952.284517   \n",
       "4  0.001701             1630.656199           79667.267654   \n",
       "\n",
       "   spectral_bandwidth_mean  spectral_bandwidth_var  ...  mfcc16_var  \\\n",
       "0              1972.744388           117335.771563  ...   39.687145   \n",
       "1              2010.051501            65671.875673  ...   64.748276   \n",
       "2              2084.565132            75124.921716  ...   67.336563   \n",
       "3              1960.039988            82913.639269  ...   47.739452   \n",
       "4              1948.503884            60204.020268  ...   30.336359   \n",
       "\n",
       "   mfcc17_mean  mfcc17_var  mfcc18_mean  mfcc18_var  mfcc19_mean  mfcc19_var  \\\n",
       "0    -3.241280   36.488243     0.722209   38.099152    -5.050335   33.618073   \n",
       "1    -6.055294   40.677654     0.159015   51.264091    -2.837699   97.030830   \n",
       "2    -1.768610   28.348579     2.378768   45.717648    -1.938424   53.050835   \n",
       "3    -3.841155   28.337118     1.218588   34.770935    -3.580352   50.836224   \n",
       "4     0.664582   45.880913     1.689446   51.363583    -3.392489   26.738789   \n",
       "\n",
       "   mfcc20_mean  mfcc20_var  label  \n",
       "0    -0.243027   43.771767  blues  \n",
       "1     5.784063   59.943081  blues  \n",
       "2     2.517375   33.105122  blues  \n",
       "3     3.630866   32.023678  blues  \n",
       "4     0.536961   29.146694  blues  \n",
       "\n",
       "[5 rows x 60 columns]"
      ]
     },
     "execution_count": 536,
     "metadata": {},
     "output_type": "execute_result"
    }
   ],
   "source": [
    "df.head(5)"
   ]
  },
  {
   "cell_type": "code",
   "execution_count": 537,
   "metadata": {},
   "outputs": [
    {
     "name": "stdout",
     "output_type": "stream",
     "text": [
      "<class 'pandas.core.frame.DataFrame'>\n",
      "RangeIndex: 9990 entries, 0 to 9989\n",
      "Data columns (total 60 columns):\n",
      " #   Column                   Non-Null Count  Dtype  \n",
      "---  ------                   --------------  -----  \n",
      " 0   filename                 9990 non-null   object \n",
      " 1   length                   9990 non-null   int64  \n",
      " 2   chroma_stft_mean         9990 non-null   float64\n",
      " 3   chroma_stft_var          9990 non-null   float64\n",
      " 4   rms_mean                 9990 non-null   float64\n",
      " 5   rms_var                  9990 non-null   float64\n",
      " 6   spectral_centroid_mean   9990 non-null   float64\n",
      " 7   spectral_centroid_var    9990 non-null   float64\n",
      " 8   spectral_bandwidth_mean  9990 non-null   float64\n",
      " 9   spectral_bandwidth_var   9990 non-null   float64\n",
      " 10  rolloff_mean             9990 non-null   float64\n",
      " 11  rolloff_var              9990 non-null   float64\n",
      " 12  zero_crossing_rate_mean  9990 non-null   float64\n",
      " 13  zero_crossing_rate_var   9990 non-null   float64\n",
      " 14  harmony_mean             9990 non-null   float64\n",
      " 15  harmony_var              9990 non-null   float64\n",
      " 16  perceptr_mean            9990 non-null   float64\n",
      " 17  perceptr_var             9990 non-null   float64\n",
      " 18  tempo                    9990 non-null   float64\n",
      " 19  mfcc1_mean               9990 non-null   float64\n",
      " 20  mfcc1_var                9990 non-null   float64\n",
      " 21  mfcc2_mean               9990 non-null   float64\n",
      " 22  mfcc2_var                9990 non-null   float64\n",
      " 23  mfcc3_mean               9990 non-null   float64\n",
      " 24  mfcc3_var                9990 non-null   float64\n",
      " 25  mfcc4_mean               9990 non-null   float64\n",
      " 26  mfcc4_var                9990 non-null   float64\n",
      " 27  mfcc5_mean               9990 non-null   float64\n",
      " 28  mfcc5_var                9990 non-null   float64\n",
      " 29  mfcc6_mean               9990 non-null   float64\n",
      " 30  mfcc6_var                9990 non-null   float64\n",
      " 31  mfcc7_mean               9990 non-null   float64\n",
      " 32  mfcc7_var                9990 non-null   float64\n",
      " 33  mfcc8_mean               9990 non-null   float64\n",
      " 34  mfcc8_var                9990 non-null   float64\n",
      " 35  mfcc9_mean               9990 non-null   float64\n",
      " 36  mfcc9_var                9990 non-null   float64\n",
      " 37  mfcc10_mean              9990 non-null   float64\n",
      " 38  mfcc10_var               9990 non-null   float64\n",
      " 39  mfcc11_mean              9990 non-null   float64\n",
      " 40  mfcc11_var               9990 non-null   float64\n",
      " 41  mfcc12_mean              9990 non-null   float64\n",
      " 42  mfcc12_var               9990 non-null   float64\n",
      " 43  mfcc13_mean              9990 non-null   float64\n",
      " 44  mfcc13_var               9990 non-null   float64\n",
      " 45  mfcc14_mean              9990 non-null   float64\n",
      " 46  mfcc14_var               9990 non-null   float64\n",
      " 47  mfcc15_mean              9990 non-null   float64\n",
      " 48  mfcc15_var               9990 non-null   float64\n",
      " 49  mfcc16_mean              9990 non-null   float64\n",
      " 50  mfcc16_var               9990 non-null   float64\n",
      " 51  mfcc17_mean              9990 non-null   float64\n",
      " 52  mfcc17_var               9990 non-null   float64\n",
      " 53  mfcc18_mean              9990 non-null   float64\n",
      " 54  mfcc18_var               9990 non-null   float64\n",
      " 55  mfcc19_mean              9990 non-null   float64\n",
      " 56  mfcc19_var               9990 non-null   float64\n",
      " 57  mfcc20_mean              9990 non-null   float64\n",
      " 58  mfcc20_var               9990 non-null   float64\n",
      " 59  label                    9990 non-null   object \n",
      "dtypes: float64(57), int64(1), object(2)\n",
      "memory usage: 4.6+ MB\n"
     ]
    }
   ],
   "source": [
    "df.info()"
   ]
  },
  {
   "cell_type": "code",
   "execution_count": 538,
   "metadata": {},
   "outputs": [],
   "source": [
    "df.drop(labels='filename', axis=1, inplace=True)\n",
    "df.dropna(inplace=True)"
   ]
  },
  {
   "cell_type": "code",
   "execution_count": 539,
   "metadata": {},
   "outputs": [],
   "source": [
    "x, y = df.iloc[:, :-1], df.iloc[:, -1]"
   ]
  },
  {
   "cell_type": "code",
   "execution_count": 540,
   "metadata": {},
   "outputs": [],
   "source": [
    "scaler = StandardScaler()\n",
    "X_scaled = scaler.fit_transform(x)"
   ]
  },
  {
   "cell_type": "code",
   "execution_count": 561,
   "metadata": {},
   "outputs": [],
   "source": [
    "labeled = LabelEncoder()\n",
    "y_labeled = labeled.fit_transform(y)"
   ]
  },
  {
   "cell_type": "code",
   "execution_count": 542,
   "metadata": {},
   "outputs": [],
   "source": [
    "X_train_val, X_test, y_train_val, y_test = train_test_split(\n",
    "    X_scaled, y_labeled, test_size=0.2, random_state=42\n",
    ")\n",
    "X_train, X_val, y_train, y_val = train_test_split(\n",
    "    X_train_val, y_train_val, test_size=0.15, random_state=42\n",
    ")"
   ]
  },
  {
   "cell_type": "code",
   "execution_count": 543,
   "metadata": {},
   "outputs": [],
   "source": [
    "# Custom Dataset\n",
    "class CustomDataset(Dataset):\n",
    "    def __init__(self, X, y, seq_length=10):\n",
    "        # Ensure X and y are NumPy arrays\n",
    "        self.X = torch.FloatTensor(X)  # X is already a NumPy array from scaler\n",
    "        self.y = torch.LongTensor(y)   # y is already a NumPy array from LabelEncoder\n",
    "        self.seq_length = seq_length\n",
    "        \n",
    "    def __len__(self):\n",
    "        return len(self.X) - self.seq_length\n",
    "        \n",
    "    def __getitem__(self, idx):\n",
    "        x_seq = self.X[idx:idx + self.seq_length]\n",
    "        y_target = self.y[idx + self.seq_length - 1]\n",
    "        return x_seq, y_target\n",
    "\n",
    "# Create datasets\n",
    "train_data = CustomDataset(X_train, y_train)\n",
    "val_data = CustomDataset(X_val, y_val)\n",
    "test_data = CustomDataset(X_test, y_test)\n",
    "\n",
    "# Create data loaders\n",
    "train_loader = DataLoader(train_data, batch_size=32, shuffle=True)\n",
    "val_loader = DataLoader(val_data, batch_size=32, shuffle=False)\n",
    "test_loader = DataLoader(test_data, batch_size=32, shuffle=False)"
   ]
  },
  {
   "cell_type": "markdown",
   "metadata": {},
   "source": [
    "# Model "
   ]
  },
  {
   "cell_type": "code",
   "execution_count": 544,
   "metadata": {},
   "outputs": [],
   "source": [
    "# --- Parameters for the PyTorch LSTM example ---\n",
    "INPUT_SIZE_PYTORCH = 58      # Number of input features (matching the actual feature size from data)\n",
    "HIDDEN_SIZE_PYTORCH = 128    # LSTM hidden state size\n",
    "NUM_LAYERS_PYTORCH = 2       # Number of LSTM layers\n",
    "NUM_CLASSES_PYTORCH = 10     # Number of output classes (should match unique labels)\n",
    "SEQ_LENGTH_PYTORCH = 10      # Sequence length (matching CustomDataset seq_length)\n",
    "BATCH_SIZE_PYTORCH = 32\n",
    "NUM_SAMPLES_PYTORCH_TRAIN = 200\n",
    "NUM_SAMPLES_PYTORCH_VAL = 50\n",
    "LEARNING_RATE_PYTORCH = 0.001\n",
    "# EPOCHS_PYTORCH = 5 # Keep epochs low for a quick demo\n",
    "\n",
    "class LSTMModel(nn.Module):\n",
    "    def __init__(self, input_size, hidden_size, num_layers, num_classes):\n",
    "        super(LSTMModel, self).__init__()\n",
    "        self.hidden_size = hidden_size\n",
    "        self.num_layers = num_layers\n",
    "        # batch_first=True means input and output tensors are provided as (batch, seq, feature)\n",
    "        # bidirectional=True makes it a Bi-LSTM\n",
    "        self.lstm = nn.LSTM(input_size, hidden_size, num_layers,\n",
    "                           batch_first=True, bidirectional=True)\n",
    "        # LSTM output is (batch, seq, num_directions * hidden_size)\n",
    "        # We use hidden_size*2 because it's bidirectional\n",
    "        self.fc = nn.Linear(hidden_size*2, num_classes)\n",
    "\n",
    "    def forward(self, x):\n",
    "        # Initialize hidden and cell states\n",
    "        # (num_layers * num_directions, batch, hidden_size)\n",
    "        h0 = torch.zeros(self.num_layers*2, x.size(0), self.hidden_size).to(x.device)\n",
    "        c0 = torch.zeros(self.num_layers*2, x.size(0), self.hidden_size).to(x.device)\n",
    "\n",
    "        # Forward propagate LSTM\n",
    "        # out: tensor of shape (batch_size, seq_length, hidden_size*2)\n",
    "        out, _ = self.lstm(x, (h0, c0))\n",
    "\n",
    "        # Decode the hidden state of the last time step\n",
    "        # out[:, -1, :] selects the output of the last time step\n",
    "        out = self.fc(out[:, -1, :])\n",
    "        return out"
   ]
  },
  {
   "cell_type": "code",
   "execution_count": 545,
   "metadata": {},
   "outputs": [],
   "source": [
    "# Initialize model\n",
    "device = torch.device('cuda' if torch.cuda.is_available() else 'cpu')\n",
    "num_classes = len(np.unique(y_labeled))  # Correct number of classes\n",
    "model = LSTMModel(input_size=INPUT_SIZE_PYTORCH,\n",
    "                  hidden_size=HIDDEN_SIZE_PYTORCH,\n",
    "                  num_layers=NUM_LAYERS_PYTORCH,\n",
    "                  num_classes=NUM_CLASSES_PYTORCH)\n",
    "model.to(device)\n",
    "\n",
    "# Loss and optimizer\n",
    "criterion = nn.CrossEntropyLoss()\n",
    "optimizer = torch.optim.Adam(model.parameters(), lr=0.001)\n",
    "scheduler = ReduceLROnPlateau(optimizer, 'min', patience=10, factor=0.1)"
   ]
  },
  {
   "cell_type": "code",
   "execution_count": 546,
   "metadata": {},
   "outputs": [
    {
     "name": "stderr",
     "output_type": "stream",
     "text": [
      "Training:   0%|          | 0/100 [00:00<?, ?it/s]"
     ]
    },
    {
     "name": "stdout",
     "output_type": "stream",
     "text": [
      "\n",
      "GPU Memory: 19.1MB / 3779.2MB\n"
     ]
    },
    {
     "name": "stderr",
     "output_type": "stream",
     "text": [
      "Training:   1%|          | 1/100 [00:00<01:36,  1.03it/s]"
     ]
    },
    {
     "name": "stdout",
     "output_type": "stream",
     "text": [
      "\n",
      "Epoch 1/100\n",
      "Learning Rate: 0.001000\n",
      "Train Loss: 1.3640, Train Acc: 51.13%\n",
      "Val Loss: 1.0115, Val Acc: 63.25%\n",
      "\n",
      "GPU Memory: 25.9MB / 3779.2MB\n"
     ]
    },
    {
     "name": "stderr",
     "output_type": "stream",
     "text": [
      "Training:   2%|▏         | 2/100 [00:02<01:45,  1.08s/it]"
     ]
    },
    {
     "name": "stdout",
     "output_type": "stream",
     "text": [
      "\n",
      "Epoch 2/100\n",
      "Learning Rate: 0.001000\n",
      "Train Loss: 0.8180, Train Acc: 71.66%\n",
      "Val Loss: 0.7796, Val Acc: 72.41%\n",
      "\n",
      "GPU Memory: 25.9MB / 3779.2MB\n"
     ]
    },
    {
     "name": "stderr",
     "output_type": "stream",
     "text": [
      "Training:   3%|▎         | 3/100 [00:03<01:41,  1.04s/it]"
     ]
    },
    {
     "name": "stdout",
     "output_type": "stream",
     "text": [
      "\n",
      "Epoch 3/100\n",
      "Learning Rate: 0.001000\n",
      "Train Loss: 0.6278, Train Acc: 77.97%\n",
      "Val Loss: 0.6842, Val Acc: 76.37%\n",
      "\n",
      "GPU Memory: 25.9MB / 3779.2MB\n"
     ]
    },
    {
     "name": "stderr",
     "output_type": "stream",
     "text": [
      "Training:   4%|▍         | 4/100 [00:04<01:38,  1.03s/it]"
     ]
    },
    {
     "name": "stdout",
     "output_type": "stream",
     "text": [
      "\n",
      "Epoch 4/100\n",
      "Learning Rate: 0.001000\n",
      "Train Loss: 0.4948, Train Acc: 83.10%\n",
      "Val Loss: 0.6728, Val Acc: 77.63%\n",
      "\n",
      "GPU Memory: 25.9MB / 3779.2MB\n"
     ]
    },
    {
     "name": "stderr",
     "output_type": "stream",
     "text": [
      "Training:   5%|▌         | 5/100 [00:05<01:37,  1.03s/it]"
     ]
    },
    {
     "name": "stdout",
     "output_type": "stream",
     "text": [
      "\n",
      "Epoch 5/100\n",
      "Learning Rate: 0.001000\n",
      "Train Loss: 0.3793, Train Acc: 87.50%\n",
      "Val Loss: 0.6232, Val Acc: 79.23%\n",
      "\n",
      "GPU Memory: 25.9MB / 3779.2MB\n"
     ]
    },
    {
     "name": "stderr",
     "output_type": "stream",
     "text": [
      "Training:   6%|▌         | 6/100 [00:06<01:37,  1.03s/it]"
     ]
    },
    {
     "name": "stdout",
     "output_type": "stream",
     "text": [
      "\n",
      "Epoch 6/100\n",
      "Learning Rate: 0.001000\n",
      "Train Loss: 0.2617, Train Acc: 91.61%\n",
      "Val Loss: 0.6495, Val Acc: 79.14%\n",
      "\n",
      "GPU Memory: 25.9MB / 3779.2MB\n"
     ]
    },
    {
     "name": "stderr",
     "output_type": "stream",
     "text": [
      "Training:   7%|▋         | 7/100 [00:07<01:34,  1.02s/it]"
     ]
    },
    {
     "name": "stdout",
     "output_type": "stream",
     "text": [
      "\n",
      "Epoch 7/100\n",
      "Learning Rate: 0.001000\n",
      "Train Loss: 0.1635, Train Acc: 95.18%\n",
      "Val Loss: 0.6482, Val Acc: 79.06%\n",
      "\n",
      "GPU Memory: 25.9MB / 3779.2MB\n"
     ]
    },
    {
     "name": "stderr",
     "output_type": "stream",
     "text": [
      "Training:   8%|▊         | 8/100 [00:08<01:30,  1.02it/s]"
     ]
    },
    {
     "name": "stdout",
     "output_type": "stream",
     "text": [
      "\n",
      "Epoch 8/100\n",
      "Learning Rate: 0.001000\n",
      "Train Loss: 0.0868, Train Acc: 98.10%\n",
      "Val Loss: 0.6854, Val Acc: 79.39%\n",
      "\n",
      "GPU Memory: 25.9MB / 3779.2MB\n"
     ]
    },
    {
     "name": "stderr",
     "output_type": "stream",
     "text": [
      "Training:   9%|▉         | 9/100 [00:09<01:27,  1.04it/s]"
     ]
    },
    {
     "name": "stdout",
     "output_type": "stream",
     "text": [
      "\n",
      "Epoch 9/100\n",
      "Learning Rate: 0.001000\n",
      "Train Loss: 0.0377, Train Acc: 99.54%\n",
      "Val Loss: 0.7027, Val Acc: 79.48%\n",
      "\n",
      "GPU Memory: 25.9MB / 3779.2MB\n"
     ]
    },
    {
     "name": "stderr",
     "output_type": "stream",
     "text": [
      "Training:  10%|█         | 10/100 [00:09<01:25,  1.05it/s]"
     ]
    },
    {
     "name": "stdout",
     "output_type": "stream",
     "text": [
      "\n",
      "Epoch 10/100\n",
      "Learning Rate: 0.001000\n",
      "Train Loss: 0.0158, Train Acc: 99.96%\n",
      "Val Loss: 0.7322, Val Acc: 80.40%\n",
      "\n",
      "GPU Memory: 25.9MB / 3779.2MB\n"
     ]
    },
    {
     "name": "stderr",
     "output_type": "stream",
     "text": [
      "Training:  11%|█         | 11/100 [00:10<01:24,  1.06it/s]"
     ]
    },
    {
     "name": "stdout",
     "output_type": "stream",
     "text": [
      "\n",
      "Epoch 11/100\n",
      "Learning Rate: 0.001000\n",
      "Train Loss: 0.0073, Train Acc: 100.00%\n",
      "Val Loss: 0.7658, Val Acc: 80.15%\n",
      "\n",
      "GPU Memory: 25.9MB / 3779.2MB\n"
     ]
    },
    {
     "name": "stderr",
     "output_type": "stream",
     "text": [
      "Training:  12%|█▏        | 12/100 [00:11<01:25,  1.03it/s]"
     ]
    },
    {
     "name": "stdout",
     "output_type": "stream",
     "text": [
      "\n",
      "Epoch 12/100\n",
      "Learning Rate: 0.001000\n",
      "Train Loss: 0.0046, Train Acc: 100.00%\n",
      "Val Loss: 0.7868, Val Acc: 80.32%\n",
      "\n",
      "GPU Memory: 25.9MB / 3779.2MB\n"
     ]
    },
    {
     "name": "stderr",
     "output_type": "stream",
     "text": [
      "Training:  13%|█▎        | 13/100 [00:12<01:24,  1.03it/s]"
     ]
    },
    {
     "name": "stdout",
     "output_type": "stream",
     "text": [
      "\n",
      "Epoch 13/100\n",
      "Learning Rate: 0.001000\n",
      "Train Loss: 0.0034, Train Acc: 100.00%\n",
      "Val Loss: 0.8098, Val Acc: 80.32%\n",
      "\n",
      "GPU Memory: 25.9MB / 3779.2MB\n"
     ]
    },
    {
     "name": "stderr",
     "output_type": "stream",
     "text": [
      "Training:  14%|█▍        | 14/100 [00:13<01:25,  1.00it/s]"
     ]
    },
    {
     "name": "stdout",
     "output_type": "stream",
     "text": [
      "\n",
      "Epoch 14/100\n",
      "Learning Rate: 0.001000\n",
      "Train Loss: 0.0026, Train Acc: 100.00%\n",
      "Val Loss: 0.8268, Val Acc: 80.32%\n",
      "\n",
      "GPU Memory: 25.9MB / 3779.2MB\n"
     ]
    },
    {
     "name": "stderr",
     "output_type": "stream",
     "text": [
      "Training:  15%|█▌        | 15/100 [00:14<01:23,  1.01it/s]"
     ]
    },
    {
     "name": "stdout",
     "output_type": "stream",
     "text": [
      "\n",
      "Epoch 15/100\n",
      "Learning Rate: 0.001000\n",
      "Train Loss: 0.0021, Train Acc: 100.00%\n",
      "Val Loss: 0.8507, Val Acc: 80.07%\n",
      "\n",
      "GPU Memory: 25.9MB / 3779.2MB\n"
     ]
    },
    {
     "name": "stderr",
     "output_type": "stream",
     "text": [
      "Training:  16%|█▌        | 16/100 [00:15<01:24,  1.00s/it]"
     ]
    },
    {
     "name": "stdout",
     "output_type": "stream",
     "text": [
      "\n",
      "Epoch 16/100\n",
      "Learning Rate: 0.000100\n",
      "Train Loss: 0.0016, Train Acc: 100.00%\n",
      "Val Loss: 0.8653, Val Acc: 80.32%\n",
      "\n",
      "GPU Memory: 25.9MB / 3779.2MB\n"
     ]
    },
    {
     "name": "stderr",
     "output_type": "stream",
     "text": [
      "Training:  17%|█▋        | 17/100 [00:16<01:24,  1.02s/it]"
     ]
    },
    {
     "name": "stdout",
     "output_type": "stream",
     "text": [
      "\n",
      "Epoch 17/100\n",
      "Learning Rate: 0.000100\n",
      "Train Loss: 0.0013, Train Acc: 100.00%\n",
      "Val Loss: 0.8693, Val Acc: 80.07%\n",
      "\n",
      "GPU Memory: 25.9MB / 3779.2MB\n"
     ]
    },
    {
     "name": "stderr",
     "output_type": "stream",
     "text": [
      "Training:  18%|█▊        | 18/100 [00:17<01:20,  1.01it/s]"
     ]
    },
    {
     "name": "stdout",
     "output_type": "stream",
     "text": [
      "\n",
      "Epoch 18/100\n",
      "Learning Rate: 0.000100\n",
      "Train Loss: 0.0013, Train Acc: 100.00%\n",
      "Val Loss: 0.8727, Val Acc: 80.32%\n",
      "\n",
      "GPU Memory: 25.9MB / 3779.2MB\n"
     ]
    },
    {
     "name": "stderr",
     "output_type": "stream",
     "text": [
      "Training:  19%|█▉        | 19/100 [00:18<01:19,  1.01it/s]"
     ]
    },
    {
     "name": "stdout",
     "output_type": "stream",
     "text": [
      "\n",
      "Epoch 19/100\n",
      "Learning Rate: 0.000100\n",
      "Train Loss: 0.0013, Train Acc: 100.00%\n",
      "Val Loss: 0.8752, Val Acc: 80.15%\n",
      "\n",
      "GPU Memory: 25.9MB / 3779.2MB\n"
     ]
    },
    {
     "name": "stderr",
     "output_type": "stream",
     "text": [
      "Training:  20%|██        | 20/100 [00:19<01:17,  1.03it/s]"
     ]
    },
    {
     "name": "stdout",
     "output_type": "stream",
     "text": [
      "\n",
      "Epoch 20/100\n",
      "Learning Rate: 0.000100\n",
      "Train Loss: 0.0013, Train Acc: 100.00%\n",
      "Val Loss: 0.8772, Val Acc: 80.15%\n",
      "\n",
      "GPU Memory: 25.9MB / 3779.2MB\n"
     ]
    },
    {
     "name": "stderr",
     "output_type": "stream",
     "text": [
      "Training:  21%|██        | 21/100 [00:20<01:17,  1.02it/s]"
     ]
    },
    {
     "name": "stdout",
     "output_type": "stream",
     "text": [
      "\n",
      "Epoch 21/100\n",
      "Learning Rate: 0.000100\n",
      "Train Loss: 0.0012, Train Acc: 100.00%\n",
      "Val Loss: 0.8799, Val Acc: 80.07%\n",
      "\n",
      "GPU Memory: 25.9MB / 3779.2MB\n"
     ]
    },
    {
     "name": "stderr",
     "output_type": "stream",
     "text": [
      "Training:  22%|██▏       | 22/100 [00:21<01:13,  1.06it/s]"
     ]
    },
    {
     "name": "stdout",
     "output_type": "stream",
     "text": [
      "\n",
      "Epoch 22/100\n",
      "Learning Rate: 0.000100\n",
      "Train Loss: 0.0012, Train Acc: 100.00%\n",
      "Val Loss: 0.8822, Val Acc: 79.90%\n",
      "\n",
      "GPU Memory: 25.9MB / 3779.2MB\n"
     ]
    },
    {
     "name": "stderr",
     "output_type": "stream",
     "text": [
      "Training:  23%|██▎       | 23/100 [00:22<01:11,  1.08it/s]"
     ]
    },
    {
     "name": "stdout",
     "output_type": "stream",
     "text": [
      "\n",
      "Epoch 23/100\n",
      "Learning Rate: 0.000100\n",
      "Train Loss: 0.0012, Train Acc: 100.00%\n",
      "Val Loss: 0.8852, Val Acc: 80.15%\n",
      "\n",
      "GPU Memory: 25.9MB / 3779.2MB\n"
     ]
    },
    {
     "name": "stderr",
     "output_type": "stream",
     "text": [
      "Training:  24%|██▍       | 24/100 [00:23<01:09,  1.10it/s]"
     ]
    },
    {
     "name": "stdout",
     "output_type": "stream",
     "text": [
      "\n",
      "Epoch 24/100\n",
      "Learning Rate: 0.000100\n",
      "Train Loss: 0.0011, Train Acc: 100.00%\n",
      "Val Loss: 0.8887, Val Acc: 80.15%\n",
      "\n",
      "GPU Memory: 25.9MB / 3779.2MB\n"
     ]
    },
    {
     "name": "stderr",
     "output_type": "stream",
     "text": [
      "Training:  25%|██▌       | 25/100 [00:24<01:08,  1.10it/s]"
     ]
    },
    {
     "name": "stdout",
     "output_type": "stream",
     "text": [
      "\n",
      "Epoch 25/100\n",
      "Learning Rate: 0.000100\n",
      "Train Loss: 0.0011, Train Acc: 100.00%\n",
      "Val Loss: 0.8927, Val Acc: 80.07%\n",
      "\n",
      "GPU Memory: 25.9MB / 3779.2MB\n"
     ]
    },
    {
     "name": "stderr",
     "output_type": "stream",
     "text": [
      "Training:  26%|██▌       | 26/100 [00:25<01:06,  1.11it/s]"
     ]
    },
    {
     "name": "stdout",
     "output_type": "stream",
     "text": [
      "\n",
      "Epoch 26/100\n",
      "Learning Rate: 0.000100\n",
      "Train Loss: 0.0010, Train Acc: 100.00%\n",
      "Val Loss: 0.8964, Val Acc: 80.07%\n",
      "\n",
      "GPU Memory: 25.9MB / 3779.2MB\n"
     ]
    },
    {
     "name": "stderr",
     "output_type": "stream",
     "text": [
      "Training:  27%|██▋       | 27/100 [00:26<01:05,  1.11it/s]"
     ]
    },
    {
     "name": "stdout",
     "output_type": "stream",
     "text": [
      "\n",
      "Epoch 27/100\n",
      "Learning Rate: 0.000010\n",
      "Train Loss: 0.0010, Train Acc: 100.00%\n",
      "Val Loss: 0.8995, Val Acc: 80.24%\n",
      "\n",
      "GPU Memory: 25.9MB / 3779.2MB\n"
     ]
    },
    {
     "name": "stderr",
     "output_type": "stream",
     "text": [
      "Training:  28%|██▊       | 28/100 [00:27<01:05,  1.10it/s]"
     ]
    },
    {
     "name": "stdout",
     "output_type": "stream",
     "text": [
      "\n",
      "Epoch 28/100\n",
      "Learning Rate: 0.000010\n",
      "Train Loss: 0.0010, Train Acc: 100.00%\n",
      "Val Loss: 0.9001, Val Acc: 80.24%\n",
      "\n",
      "GPU Memory: 25.9MB / 3779.2MB\n"
     ]
    },
    {
     "name": "stderr",
     "output_type": "stream",
     "text": [
      "Training:  29%|██▉       | 29/100 [00:27<01:03,  1.12it/s]"
     ]
    },
    {
     "name": "stdout",
     "output_type": "stream",
     "text": [
      "\n",
      "Epoch 29/100\n",
      "Learning Rate: 0.000010\n",
      "Train Loss: 0.0010, Train Acc: 100.00%\n",
      "Val Loss: 0.9008, Val Acc: 80.07%\n",
      "\n",
      "GPU Memory: 25.9MB / 3779.2MB\n"
     ]
    },
    {
     "name": "stderr",
     "output_type": "stream",
     "text": [
      "Training:  30%|███       | 30/100 [00:28<01:02,  1.12it/s]"
     ]
    },
    {
     "name": "stdout",
     "output_type": "stream",
     "text": [
      "\n",
      "Epoch 30/100\n",
      "Learning Rate: 0.000010\n",
      "Train Loss: 0.0009, Train Acc: 100.00%\n",
      "Val Loss: 0.9014, Val Acc: 80.07%\n",
      "\n",
      "GPU Memory: 25.9MB / 3779.2MB\n"
     ]
    },
    {
     "name": "stderr",
     "output_type": "stream",
     "text": [
      "Training:  31%|███       | 31/100 [00:29<00:58,  1.18it/s]"
     ]
    },
    {
     "name": "stdout",
     "output_type": "stream",
     "text": [
      "\n",
      "Epoch 31/100\n",
      "Learning Rate: 0.000010\n",
      "Train Loss: 0.0009, Train Acc: 100.00%\n",
      "Val Loss: 0.9020, Val Acc: 80.07%\n",
      "\n",
      "GPU Memory: 25.9MB / 3779.2MB\n"
     ]
    },
    {
     "name": "stderr",
     "output_type": "stream",
     "text": [
      "Training:  32%|███▏      | 32/100 [00:30<00:55,  1.22it/s]"
     ]
    },
    {
     "name": "stdout",
     "output_type": "stream",
     "text": [
      "\n",
      "Epoch 32/100\n",
      "Learning Rate: 0.000010\n",
      "Train Loss: 0.0009, Train Acc: 100.00%\n",
      "Val Loss: 0.9029, Val Acc: 80.07%\n",
      "\n",
      "GPU Memory: 25.9MB / 3779.2MB\n"
     ]
    },
    {
     "name": "stderr",
     "output_type": "stream",
     "text": [
      "Training:  33%|███▎      | 33/100 [00:31<00:53,  1.26it/s]"
     ]
    },
    {
     "name": "stdout",
     "output_type": "stream",
     "text": [
      "\n",
      "Epoch 33/100\n",
      "Learning Rate: 0.000010\n",
      "Train Loss: 0.0009, Train Acc: 100.00%\n",
      "Val Loss: 0.9036, Val Acc: 80.07%\n",
      "\n",
      "GPU Memory: 25.9MB / 3779.2MB\n"
     ]
    },
    {
     "name": "stderr",
     "output_type": "stream",
     "text": [
      "Training:  34%|███▍      | 34/100 [00:31<00:51,  1.28it/s]"
     ]
    },
    {
     "name": "stdout",
     "output_type": "stream",
     "text": [
      "\n",
      "Epoch 34/100\n",
      "Learning Rate: 0.000010\n",
      "Train Loss: 0.0009, Train Acc: 100.00%\n",
      "Val Loss: 0.9042, Val Acc: 80.07%\n",
      "\n",
      "GPU Memory: 25.9MB / 3779.2MB\n"
     ]
    },
    {
     "name": "stderr",
     "output_type": "stream",
     "text": [
      "Training:  35%|███▌      | 35/100 [00:32<00:49,  1.32it/s]"
     ]
    },
    {
     "name": "stdout",
     "output_type": "stream",
     "text": [
      "\n",
      "Epoch 35/100\n",
      "Learning Rate: 0.000010\n",
      "Train Loss: 0.0009, Train Acc: 100.00%\n",
      "Val Loss: 0.9053, Val Acc: 80.07%\n",
      "\n",
      "GPU Memory: 25.9MB / 3779.2MB\n"
     ]
    },
    {
     "name": "stderr",
     "output_type": "stream",
     "text": [
      "Training:  36%|███▌      | 36/100 [00:33<00:47,  1.33it/s]"
     ]
    },
    {
     "name": "stdout",
     "output_type": "stream",
     "text": [
      "\n",
      "Epoch 36/100\n",
      "Learning Rate: 0.000010\n",
      "Train Loss: 0.0009, Train Acc: 100.00%\n",
      "Val Loss: 0.9062, Val Acc: 79.98%\n",
      "\n",
      "GPU Memory: 25.9MB / 3779.2MB\n"
     ]
    },
    {
     "name": "stderr",
     "output_type": "stream",
     "text": [
      "Training:  37%|███▋      | 37/100 [00:33<00:46,  1.35it/s]"
     ]
    },
    {
     "name": "stdout",
     "output_type": "stream",
     "text": [
      "\n",
      "Epoch 37/100\n",
      "Learning Rate: 0.000010\n",
      "Train Loss: 0.0009, Train Acc: 100.00%\n",
      "Val Loss: 0.9073, Val Acc: 79.98%\n",
      "\n",
      "GPU Memory: 25.9MB / 3779.2MB\n"
     ]
    },
    {
     "name": "stderr",
     "output_type": "stream",
     "text": [
      "Training:  38%|███▊      | 38/100 [00:34<00:45,  1.35it/s]"
     ]
    },
    {
     "name": "stdout",
     "output_type": "stream",
     "text": [
      "\n",
      "Epoch 38/100\n",
      "Learning Rate: 0.000001\n",
      "Train Loss: 0.0009, Train Acc: 100.00%\n",
      "Val Loss: 0.9083, Val Acc: 79.98%\n",
      "\n",
      "GPU Memory: 25.9MB / 3779.2MB\n"
     ]
    },
    {
     "name": "stderr",
     "output_type": "stream",
     "text": [
      "Training:  39%|███▉      | 39/100 [00:35<00:45,  1.35it/s]"
     ]
    },
    {
     "name": "stdout",
     "output_type": "stream",
     "text": [
      "\n",
      "Epoch 39/100\n",
      "Learning Rate: 0.000001\n",
      "Train Loss: 0.0009, Train Acc: 100.00%\n",
      "Val Loss: 0.9084, Val Acc: 79.98%\n",
      "\n",
      "GPU Memory: 25.9MB / 3779.2MB\n"
     ]
    },
    {
     "name": "stderr",
     "output_type": "stream",
     "text": [
      "Training:  40%|████      | 40/100 [00:36<00:44,  1.35it/s]"
     ]
    },
    {
     "name": "stdout",
     "output_type": "stream",
     "text": [
      "\n",
      "Epoch 40/100\n",
      "Learning Rate: 0.000001\n",
      "Train Loss: 0.0009, Train Acc: 100.00%\n",
      "Val Loss: 0.9085, Val Acc: 79.98%\n",
      "\n",
      "GPU Memory: 25.9MB / 3779.2MB\n"
     ]
    },
    {
     "name": "stderr",
     "output_type": "stream",
     "text": [
      "Training:  41%|████      | 41/100 [00:36<00:43,  1.35it/s]"
     ]
    },
    {
     "name": "stdout",
     "output_type": "stream",
     "text": [
      "\n",
      "Epoch 41/100\n",
      "Learning Rate: 0.000001\n",
      "Train Loss: 0.0009, Train Acc: 100.00%\n",
      "Val Loss: 0.9087, Val Acc: 79.98%\n",
      "\n",
      "GPU Memory: 25.9MB / 3779.2MB\n"
     ]
    },
    {
     "name": "stderr",
     "output_type": "stream",
     "text": [
      "Training:  42%|████▏     | 42/100 [00:37<00:42,  1.35it/s]"
     ]
    },
    {
     "name": "stdout",
     "output_type": "stream",
     "text": [
      "\n",
      "Epoch 42/100\n",
      "Learning Rate: 0.000001\n",
      "Train Loss: 0.0009, Train Acc: 100.00%\n",
      "Val Loss: 0.9088, Val Acc: 79.98%\n",
      "\n",
      "GPU Memory: 25.9MB / 3779.2MB\n"
     ]
    },
    {
     "name": "stderr",
     "output_type": "stream",
     "text": [
      "Training:  43%|████▎     | 43/100 [00:38<00:42,  1.36it/s]"
     ]
    },
    {
     "name": "stdout",
     "output_type": "stream",
     "text": [
      "\n",
      "Epoch 43/100\n",
      "Learning Rate: 0.000001\n",
      "Train Loss: 0.0009, Train Acc: 100.00%\n",
      "Val Loss: 0.9091, Val Acc: 79.98%\n",
      "\n",
      "GPU Memory: 25.9MB / 3779.2MB\n"
     ]
    },
    {
     "name": "stderr",
     "output_type": "stream",
     "text": [
      "Training:  44%|████▍     | 44/100 [00:39<00:40,  1.39it/s]"
     ]
    },
    {
     "name": "stdout",
     "output_type": "stream",
     "text": [
      "\n",
      "Epoch 44/100\n",
      "Learning Rate: 0.000001\n",
      "Train Loss: 0.0009, Train Acc: 100.00%\n",
      "Val Loss: 0.9092, Val Acc: 79.98%\n",
      "\n",
      "GPU Memory: 25.9MB / 3779.2MB\n"
     ]
    },
    {
     "name": "stderr",
     "output_type": "stream",
     "text": [
      "Training:  45%|████▌     | 45/100 [00:39<00:39,  1.38it/s]"
     ]
    },
    {
     "name": "stdout",
     "output_type": "stream",
     "text": [
      "\n",
      "Epoch 45/100\n",
      "Learning Rate: 0.000001\n",
      "Train Loss: 0.0009, Train Acc: 100.00%\n",
      "Val Loss: 0.9094, Val Acc: 79.98%\n",
      "\n",
      "GPU Memory: 25.9MB / 3779.2MB\n"
     ]
    },
    {
     "name": "stderr",
     "output_type": "stream",
     "text": [
      "Training:  46%|████▌     | 46/100 [00:40<00:38,  1.39it/s]"
     ]
    },
    {
     "name": "stdout",
     "output_type": "stream",
     "text": [
      "\n",
      "Epoch 46/100\n",
      "Learning Rate: 0.000001\n",
      "Train Loss: 0.0009, Train Acc: 100.00%\n",
      "Val Loss: 0.9097, Val Acc: 79.98%\n",
      "\n",
      "GPU Memory: 25.9MB / 3779.2MB\n"
     ]
    },
    {
     "name": "stderr",
     "output_type": "stream",
     "text": [
      "Training:  47%|████▋     | 47/100 [00:41<00:38,  1.39it/s]"
     ]
    },
    {
     "name": "stdout",
     "output_type": "stream",
     "text": [
      "\n",
      "Epoch 47/100\n",
      "Learning Rate: 0.000001\n",
      "Train Loss: 0.0009, Train Acc: 100.00%\n",
      "Val Loss: 0.9100, Val Acc: 79.98%\n",
      "\n",
      "GPU Memory: 25.9MB / 3779.2MB\n"
     ]
    },
    {
     "name": "stderr",
     "output_type": "stream",
     "text": [
      "Training:  48%|████▊     | 48/100 [00:41<00:37,  1.39it/s]"
     ]
    },
    {
     "name": "stdout",
     "output_type": "stream",
     "text": [
      "\n",
      "Epoch 48/100\n",
      "Learning Rate: 0.000001\n",
      "Train Loss: 0.0009, Train Acc: 100.00%\n",
      "Val Loss: 0.9102, Val Acc: 79.98%\n",
      "\n",
      "GPU Memory: 25.9MB / 3779.2MB\n"
     ]
    },
    {
     "name": "stderr",
     "output_type": "stream",
     "text": [
      "Training:  49%|████▉     | 49/100 [00:42<00:36,  1.41it/s]"
     ]
    },
    {
     "name": "stdout",
     "output_type": "stream",
     "text": [
      "\n",
      "Epoch 49/100\n",
      "Learning Rate: 0.000000\n",
      "Train Loss: 0.0009, Train Acc: 100.00%\n",
      "Val Loss: 0.9105, Val Acc: 79.98%\n",
      "\n",
      "GPU Memory: 25.9MB / 3779.2MB\n"
     ]
    },
    {
     "name": "stderr",
     "output_type": "stream",
     "text": [
      "Training:  50%|█████     | 50/100 [00:43<00:34,  1.43it/s]"
     ]
    },
    {
     "name": "stdout",
     "output_type": "stream",
     "text": [
      "\n",
      "Epoch 50/100\n",
      "Learning Rate: 0.000000\n",
      "Train Loss: 0.0009, Train Acc: 100.00%\n",
      "Val Loss: 0.9105, Val Acc: 79.98%\n",
      "\n",
      "GPU Memory: 25.9MB / 3779.2MB\n"
     ]
    },
    {
     "name": "stderr",
     "output_type": "stream",
     "text": [
      "Training:  51%|█████     | 51/100 [00:44<00:34,  1.41it/s]"
     ]
    },
    {
     "name": "stdout",
     "output_type": "stream",
     "text": [
      "\n",
      "Epoch 51/100\n",
      "Learning Rate: 0.000000\n",
      "Train Loss: 0.0009, Train Acc: 100.00%\n",
      "Val Loss: 0.9106, Val Acc: 79.98%\n",
      "\n",
      "GPU Memory: 25.9MB / 3779.2MB\n"
     ]
    },
    {
     "name": "stderr",
     "output_type": "stream",
     "text": [
      "Training:  52%|█████▏    | 52/100 [00:44<00:34,  1.39it/s]"
     ]
    },
    {
     "name": "stdout",
     "output_type": "stream",
     "text": [
      "\n",
      "Epoch 52/100\n",
      "Learning Rate: 0.000000\n",
      "Train Loss: 0.0009, Train Acc: 100.00%\n",
      "Val Loss: 0.9106, Val Acc: 79.98%\n",
      "\n",
      "GPU Memory: 25.9MB / 3779.2MB\n"
     ]
    },
    {
     "name": "stderr",
     "output_type": "stream",
     "text": [
      "Training:  53%|█████▎    | 53/100 [00:45<00:34,  1.38it/s]"
     ]
    },
    {
     "name": "stdout",
     "output_type": "stream",
     "text": [
      "\n",
      "Epoch 53/100\n",
      "Learning Rate: 0.000000\n",
      "Train Loss: 0.0009, Train Acc: 100.00%\n",
      "Val Loss: 0.9106, Val Acc: 79.98%\n",
      "\n",
      "GPU Memory: 25.9MB / 3779.2MB\n"
     ]
    },
    {
     "name": "stderr",
     "output_type": "stream",
     "text": [
      "Training:  54%|█████▍    | 54/100 [00:46<00:33,  1.38it/s]"
     ]
    },
    {
     "name": "stdout",
     "output_type": "stream",
     "text": [
      "\n",
      "Epoch 54/100\n",
      "Learning Rate: 0.000000\n",
      "Train Loss: 0.0009, Train Acc: 100.00%\n",
      "Val Loss: 0.9107, Val Acc: 79.98%\n",
      "\n",
      "GPU Memory: 25.9MB / 3779.2MB\n"
     ]
    },
    {
     "name": "stderr",
     "output_type": "stream",
     "text": [
      "Training:  55%|█████▌    | 55/100 [00:46<00:32,  1.37it/s]"
     ]
    },
    {
     "name": "stdout",
     "output_type": "stream",
     "text": [
      "\n",
      "Epoch 55/100\n",
      "Learning Rate: 0.000000\n",
      "Train Loss: 0.0009, Train Acc: 100.00%\n",
      "Val Loss: 0.9107, Val Acc: 79.98%\n",
      "\n",
      "GPU Memory: 25.9MB / 3779.2MB\n"
     ]
    },
    {
     "name": "stderr",
     "output_type": "stream",
     "text": [
      "Training:  56%|█████▌    | 56/100 [00:47<00:32,  1.37it/s]"
     ]
    },
    {
     "name": "stdout",
     "output_type": "stream",
     "text": [
      "\n",
      "Epoch 56/100\n",
      "Learning Rate: 0.000000\n",
      "Train Loss: 0.0009, Train Acc: 100.00%\n",
      "Val Loss: 0.9107, Val Acc: 79.98%\n",
      "\n",
      "GPU Memory: 25.9MB / 3779.2MB\n"
     ]
    },
    {
     "name": "stderr",
     "output_type": "stream",
     "text": [
      "Training:  57%|█████▋    | 57/100 [00:48<00:31,  1.38it/s]"
     ]
    },
    {
     "name": "stdout",
     "output_type": "stream",
     "text": [
      "\n",
      "Epoch 57/100\n",
      "Learning Rate: 0.000000\n",
      "Train Loss: 0.0009, Train Acc: 100.00%\n",
      "Val Loss: 0.9108, Val Acc: 79.98%\n",
      "\n",
      "GPU Memory: 25.9MB / 3779.2MB\n"
     ]
    },
    {
     "name": "stderr",
     "output_type": "stream",
     "text": [
      "Training:  58%|█████▊    | 58/100 [00:49<00:30,  1.38it/s]"
     ]
    },
    {
     "name": "stdout",
     "output_type": "stream",
     "text": [
      "\n",
      "Epoch 58/100\n",
      "Learning Rate: 0.000000\n",
      "Train Loss: 0.0009, Train Acc: 100.00%\n",
      "Val Loss: 0.9108, Val Acc: 79.98%\n",
      "\n",
      "GPU Memory: 25.9MB / 3779.2MB\n"
     ]
    },
    {
     "name": "stderr",
     "output_type": "stream",
     "text": [
      "Training:  59%|█████▉    | 59/100 [00:49<00:29,  1.38it/s]"
     ]
    },
    {
     "name": "stdout",
     "output_type": "stream",
     "text": [
      "\n",
      "Epoch 59/100\n",
      "Learning Rate: 0.000000\n",
      "Train Loss: 0.0009, Train Acc: 100.00%\n",
      "Val Loss: 0.9109, Val Acc: 79.98%\n",
      "\n",
      "GPU Memory: 25.9MB / 3779.2MB\n"
     ]
    },
    {
     "name": "stderr",
     "output_type": "stream",
     "text": [
      "Training:  60%|██████    | 60/100 [00:50<00:29,  1.37it/s]"
     ]
    },
    {
     "name": "stdout",
     "output_type": "stream",
     "text": [
      "\n",
      "Epoch 60/100\n",
      "Learning Rate: 0.000000\n",
      "Train Loss: 0.0009, Train Acc: 100.00%\n",
      "Val Loss: 0.9109, Val Acc: 79.98%\n",
      "\n",
      "GPU Memory: 25.9MB / 3779.2MB\n"
     ]
    },
    {
     "name": "stderr",
     "output_type": "stream",
     "text": [
      "Training:  61%|██████    | 61/100 [00:51<00:28,  1.37it/s]"
     ]
    },
    {
     "name": "stdout",
     "output_type": "stream",
     "text": [
      "\n",
      "Epoch 61/100\n",
      "Learning Rate: 0.000000\n",
      "Train Loss: 0.0009, Train Acc: 100.00%\n",
      "Val Loss: 0.9109, Val Acc: 79.98%\n",
      "\n",
      "GPU Memory: 25.9MB / 3779.2MB\n"
     ]
    },
    {
     "name": "stderr",
     "output_type": "stream",
     "text": [
      "Training:  62%|██████▏   | 62/100 [00:52<00:28,  1.36it/s]"
     ]
    },
    {
     "name": "stdout",
     "output_type": "stream",
     "text": [
      "\n",
      "Epoch 62/100\n",
      "Learning Rate: 0.000000\n",
      "Train Loss: 0.0009, Train Acc: 100.00%\n",
      "Val Loss: 0.9109, Val Acc: 79.98%\n",
      "\n",
      "GPU Memory: 25.9MB / 3779.2MB\n"
     ]
    },
    {
     "name": "stderr",
     "output_type": "stream",
     "text": [
      "Training:  63%|██████▎   | 63/100 [00:52<00:27,  1.35it/s]"
     ]
    },
    {
     "name": "stdout",
     "output_type": "stream",
     "text": [
      "\n",
      "Epoch 63/100\n",
      "Learning Rate: 0.000000\n",
      "Train Loss: 0.0009, Train Acc: 100.00%\n",
      "Val Loss: 0.9109, Val Acc: 79.98%\n",
      "\n",
      "GPU Memory: 25.9MB / 3779.2MB\n"
     ]
    },
    {
     "name": "stderr",
     "output_type": "stream",
     "text": [
      "Training:  64%|██████▍   | 64/100 [00:53<00:26,  1.35it/s]"
     ]
    },
    {
     "name": "stdout",
     "output_type": "stream",
     "text": [
      "\n",
      "Epoch 64/100\n",
      "Learning Rate: 0.000000\n",
      "Train Loss: 0.0009, Train Acc: 100.00%\n",
      "Val Loss: 0.9109, Val Acc: 79.98%\n",
      "\n",
      "GPU Memory: 25.9MB / 3779.2MB\n"
     ]
    },
    {
     "name": "stderr",
     "output_type": "stream",
     "text": [
      "Training:  65%|██████▌   | 65/100 [00:54<00:25,  1.35it/s]"
     ]
    },
    {
     "name": "stdout",
     "output_type": "stream",
     "text": [
      "\n",
      "Epoch 65/100\n",
      "Learning Rate: 0.000000\n",
      "Train Loss: 0.0009, Train Acc: 100.00%\n",
      "Val Loss: 0.9109, Val Acc: 79.98%\n",
      "\n",
      "GPU Memory: 25.9MB / 3779.2MB\n"
     ]
    },
    {
     "name": "stderr",
     "output_type": "stream",
     "text": [
      "Training:  66%|██████▌   | 66/100 [00:55<00:24,  1.36it/s]"
     ]
    },
    {
     "name": "stdout",
     "output_type": "stream",
     "text": [
      "\n",
      "Epoch 66/100\n",
      "Learning Rate: 0.000000\n",
      "Train Loss: 0.0009, Train Acc: 100.00%\n",
      "Val Loss: 0.9109, Val Acc: 79.98%\n",
      "\n",
      "GPU Memory: 25.9MB / 3779.2MB\n"
     ]
    },
    {
     "name": "stderr",
     "output_type": "stream",
     "text": [
      "Training:  67%|██████▋   | 67/100 [00:55<00:24,  1.37it/s]"
     ]
    },
    {
     "name": "stdout",
     "output_type": "stream",
     "text": [
      "\n",
      "Epoch 67/100\n",
      "Learning Rate: 0.000000\n",
      "Train Loss: 0.0009, Train Acc: 100.00%\n",
      "Val Loss: 0.9109, Val Acc: 79.98%\n",
      "\n",
      "GPU Memory: 25.9MB / 3779.2MB\n"
     ]
    },
    {
     "name": "stderr",
     "output_type": "stream",
     "text": [
      "Training:  68%|██████▊   | 68/100 [00:56<00:23,  1.36it/s]"
     ]
    },
    {
     "name": "stdout",
     "output_type": "stream",
     "text": [
      "\n",
      "Epoch 68/100\n",
      "Learning Rate: 0.000000\n",
      "Train Loss: 0.0009, Train Acc: 100.00%\n",
      "Val Loss: 0.9109, Val Acc: 79.98%\n",
      "\n",
      "GPU Memory: 25.9MB / 3779.2MB\n"
     ]
    },
    {
     "name": "stderr",
     "output_type": "stream",
     "text": [
      "Training:  69%|██████▉   | 69/100 [00:57<00:22,  1.36it/s]"
     ]
    },
    {
     "name": "stdout",
     "output_type": "stream",
     "text": [
      "\n",
      "Epoch 69/100\n",
      "Learning Rate: 0.000000\n",
      "Train Loss: 0.0009, Train Acc: 100.00%\n",
      "Val Loss: 0.9109, Val Acc: 79.98%\n",
      "\n",
      "GPU Memory: 25.9MB / 3779.2MB\n"
     ]
    },
    {
     "name": "stderr",
     "output_type": "stream",
     "text": [
      "Training:  70%|███████   | 70/100 [00:58<00:22,  1.34it/s]"
     ]
    },
    {
     "name": "stdout",
     "output_type": "stream",
     "text": [
      "\n",
      "Epoch 70/100\n",
      "Learning Rate: 0.000000\n",
      "Train Loss: 0.0009, Train Acc: 100.00%\n",
      "Val Loss: 0.9109, Val Acc: 79.98%\n",
      "\n",
      "GPU Memory: 25.9MB / 3779.2MB\n"
     ]
    },
    {
     "name": "stderr",
     "output_type": "stream",
     "text": [
      "Training:  71%|███████   | 71/100 [00:58<00:21,  1.34it/s]"
     ]
    },
    {
     "name": "stdout",
     "output_type": "stream",
     "text": [
      "\n",
      "Epoch 71/100\n",
      "Learning Rate: 0.000000\n",
      "Train Loss: 0.0009, Train Acc: 100.00%\n",
      "Val Loss: 0.9109, Val Acc: 79.98%\n",
      "\n",
      "GPU Memory: 25.9MB / 3779.2MB\n"
     ]
    },
    {
     "name": "stderr",
     "output_type": "stream",
     "text": [
      "Training:  72%|███████▏  | 72/100 [00:59<00:20,  1.35it/s]"
     ]
    },
    {
     "name": "stdout",
     "output_type": "stream",
     "text": [
      "\n",
      "Epoch 72/100\n",
      "Learning Rate: 0.000000\n",
      "Train Loss: 0.0009, Train Acc: 100.00%\n",
      "Val Loss: 0.9109, Val Acc: 79.98%\n",
      "\n",
      "GPU Memory: 25.9MB / 3779.2MB\n"
     ]
    },
    {
     "name": "stderr",
     "output_type": "stream",
     "text": [
      "Training:  73%|███████▎  | 73/100 [01:00<00:20,  1.35it/s]"
     ]
    },
    {
     "name": "stdout",
     "output_type": "stream",
     "text": [
      "\n",
      "Epoch 73/100\n",
      "Learning Rate: 0.000000\n",
      "Train Loss: 0.0009, Train Acc: 100.00%\n",
      "Val Loss: 0.9109, Val Acc: 79.98%\n",
      "\n",
      "GPU Memory: 25.9MB / 3779.2MB\n"
     ]
    },
    {
     "name": "stderr",
     "output_type": "stream",
     "text": [
      "Training:  74%|███████▍  | 74/100 [01:00<00:19,  1.35it/s]"
     ]
    },
    {
     "name": "stdout",
     "output_type": "stream",
     "text": [
      "\n",
      "Epoch 74/100\n",
      "Learning Rate: 0.000000\n",
      "Train Loss: 0.0009, Train Acc: 100.00%\n",
      "Val Loss: 0.9109, Val Acc: 79.98%\n",
      "\n",
      "GPU Memory: 25.9MB / 3779.2MB\n"
     ]
    },
    {
     "name": "stderr",
     "output_type": "stream",
     "text": [
      "Training:  75%|███████▌  | 75/100 [01:01<00:18,  1.35it/s]"
     ]
    },
    {
     "name": "stdout",
     "output_type": "stream",
     "text": [
      "\n",
      "Epoch 75/100\n",
      "Learning Rate: 0.000000\n",
      "Train Loss: 0.0009, Train Acc: 100.00%\n",
      "Val Loss: 0.9110, Val Acc: 79.98%\n",
      "\n",
      "GPU Memory: 25.9MB / 3779.2MB\n"
     ]
    },
    {
     "name": "stderr",
     "output_type": "stream",
     "text": [
      "Training:  76%|███████▌  | 76/100 [01:02<00:17,  1.36it/s]"
     ]
    },
    {
     "name": "stdout",
     "output_type": "stream",
     "text": [
      "\n",
      "Epoch 76/100\n",
      "Learning Rate: 0.000000\n",
      "Train Loss: 0.0009, Train Acc: 100.00%\n",
      "Val Loss: 0.9110, Val Acc: 79.98%\n",
      "\n",
      "GPU Memory: 25.9MB / 3779.2MB\n"
     ]
    },
    {
     "name": "stderr",
     "output_type": "stream",
     "text": [
      "Training:  77%|███████▋  | 77/100 [01:03<00:17,  1.35it/s]"
     ]
    },
    {
     "name": "stdout",
     "output_type": "stream",
     "text": [
      "\n",
      "Epoch 77/100\n",
      "Learning Rate: 0.000000\n",
      "Train Loss: 0.0009, Train Acc: 100.00%\n",
      "Val Loss: 0.9110, Val Acc: 79.98%\n",
      "\n",
      "GPU Memory: 25.9MB / 3779.2MB\n"
     ]
    },
    {
     "name": "stderr",
     "output_type": "stream",
     "text": [
      "Training:  78%|███████▊  | 78/100 [01:03<00:16,  1.35it/s]"
     ]
    },
    {
     "name": "stdout",
     "output_type": "stream",
     "text": [
      "\n",
      "Epoch 78/100\n",
      "Learning Rate: 0.000000\n",
      "Train Loss: 0.0009, Train Acc: 100.00%\n",
      "Val Loss: 0.9110, Val Acc: 79.98%\n",
      "\n",
      "GPU Memory: 25.9MB / 3779.2MB\n"
     ]
    },
    {
     "name": "stderr",
     "output_type": "stream",
     "text": [
      "Training:  79%|███████▉  | 79/100 [01:04<00:16,  1.30it/s]"
     ]
    },
    {
     "name": "stdout",
     "output_type": "stream",
     "text": [
      "\n",
      "Epoch 79/100\n",
      "Learning Rate: 0.000000\n",
      "Train Loss: 0.0009, Train Acc: 100.00%\n",
      "Val Loss: 0.9110, Val Acc: 79.98%\n",
      "\n",
      "GPU Memory: 25.9MB / 3779.2MB\n"
     ]
    },
    {
     "name": "stderr",
     "output_type": "stream",
     "text": [
      "Training:  80%|████████  | 80/100 [01:05<00:15,  1.32it/s]"
     ]
    },
    {
     "name": "stdout",
     "output_type": "stream",
     "text": [
      "\n",
      "Epoch 80/100\n",
      "Learning Rate: 0.000000\n",
      "Train Loss: 0.0009, Train Acc: 100.00%\n",
      "Val Loss: 0.9110, Val Acc: 79.98%\n",
      "\n",
      "GPU Memory: 25.9MB / 3779.2MB\n"
     ]
    },
    {
     "name": "stderr",
     "output_type": "stream",
     "text": [
      "Training:  81%|████████  | 81/100 [01:06<00:14,  1.34it/s]"
     ]
    },
    {
     "name": "stdout",
     "output_type": "stream",
     "text": [
      "\n",
      "Epoch 81/100\n",
      "Learning Rate: 0.000000\n",
      "Train Loss: 0.0009, Train Acc: 100.00%\n",
      "Val Loss: 0.9110, Val Acc: 79.98%\n",
      "\n",
      "GPU Memory: 25.9MB / 3779.2MB\n"
     ]
    },
    {
     "name": "stderr",
     "output_type": "stream",
     "text": [
      "Training:  82%|████████▏ | 82/100 [01:06<00:13,  1.37it/s]"
     ]
    },
    {
     "name": "stdout",
     "output_type": "stream",
     "text": [
      "\n",
      "Epoch 82/100\n",
      "Learning Rate: 0.000000\n",
      "Train Loss: 0.0009, Train Acc: 100.00%\n",
      "Val Loss: 0.9110, Val Acc: 79.98%\n",
      "\n",
      "GPU Memory: 25.9MB / 3779.2MB\n"
     ]
    },
    {
     "name": "stderr",
     "output_type": "stream",
     "text": [
      "Training:  83%|████████▎ | 83/100 [01:07<00:12,  1.37it/s]"
     ]
    },
    {
     "name": "stdout",
     "output_type": "stream",
     "text": [
      "\n",
      "Epoch 83/100\n",
      "Learning Rate: 0.000000\n",
      "Train Loss: 0.0009, Train Acc: 100.00%\n",
      "Val Loss: 0.9110, Val Acc: 79.98%\n",
      "\n",
      "GPU Memory: 25.9MB / 3779.2MB\n"
     ]
    },
    {
     "name": "stderr",
     "output_type": "stream",
     "text": [
      "Training:  84%|████████▍ | 84/100 [01:08<00:11,  1.37it/s]"
     ]
    },
    {
     "name": "stdout",
     "output_type": "stream",
     "text": [
      "\n",
      "Epoch 84/100\n",
      "Learning Rate: 0.000000\n",
      "Train Loss: 0.0009, Train Acc: 100.00%\n",
      "Val Loss: 0.9110, Val Acc: 79.98%\n",
      "\n",
      "GPU Memory: 25.9MB / 3779.2MB\n"
     ]
    },
    {
     "name": "stderr",
     "output_type": "stream",
     "text": [
      "Training:  85%|████████▌ | 85/100 [01:09<00:11,  1.36it/s]"
     ]
    },
    {
     "name": "stdout",
     "output_type": "stream",
     "text": [
      "\n",
      "Epoch 85/100\n",
      "Learning Rate: 0.000000\n",
      "Train Loss: 0.0009, Train Acc: 100.00%\n",
      "Val Loss: 0.9110, Val Acc: 79.98%\n",
      "\n",
      "GPU Memory: 25.9MB / 3779.2MB\n"
     ]
    },
    {
     "name": "stderr",
     "output_type": "stream",
     "text": [
      "Training:  86%|████████▌ | 86/100 [01:09<00:10,  1.36it/s]"
     ]
    },
    {
     "name": "stdout",
     "output_type": "stream",
     "text": [
      "\n",
      "Epoch 86/100\n",
      "Learning Rate: 0.000000\n",
      "Train Loss: 0.0009, Train Acc: 100.00%\n",
      "Val Loss: 0.9110, Val Acc: 79.98%\n",
      "\n",
      "GPU Memory: 25.9MB / 3779.2MB\n"
     ]
    },
    {
     "name": "stderr",
     "output_type": "stream",
     "text": [
      "Training:  87%|████████▋ | 87/100 [01:10<00:09,  1.36it/s]"
     ]
    },
    {
     "name": "stdout",
     "output_type": "stream",
     "text": [
      "\n",
      "Epoch 87/100\n",
      "Learning Rate: 0.000000\n",
      "Train Loss: 0.0009, Train Acc: 100.00%\n",
      "Val Loss: 0.9110, Val Acc: 79.98%\n",
      "\n",
      "GPU Memory: 25.9MB / 3779.2MB\n"
     ]
    },
    {
     "name": "stderr",
     "output_type": "stream",
     "text": [
      "Training:  88%|████████▊ | 88/100 [01:11<00:08,  1.39it/s]"
     ]
    },
    {
     "name": "stdout",
     "output_type": "stream",
     "text": [
      "\n",
      "Epoch 88/100\n",
      "Learning Rate: 0.000000\n",
      "Train Loss: 0.0009, Train Acc: 100.00%\n",
      "Val Loss: 0.9110, Val Acc: 79.98%\n",
      "\n",
      "GPU Memory: 25.9MB / 3779.2MB\n"
     ]
    },
    {
     "name": "stderr",
     "output_type": "stream",
     "text": [
      "Training:  89%|████████▉ | 89/100 [01:11<00:07,  1.40it/s]"
     ]
    },
    {
     "name": "stdout",
     "output_type": "stream",
     "text": [
      "\n",
      "Epoch 89/100\n",
      "Learning Rate: 0.000000\n",
      "Train Loss: 0.0009, Train Acc: 100.00%\n",
      "Val Loss: 0.9110, Val Acc: 79.98%\n",
      "\n",
      "GPU Memory: 25.9MB / 3779.2MB\n"
     ]
    },
    {
     "name": "stderr",
     "output_type": "stream",
     "text": [
      "Training:  90%|█████████ | 90/100 [01:12<00:07,  1.42it/s]"
     ]
    },
    {
     "name": "stdout",
     "output_type": "stream",
     "text": [
      "\n",
      "Epoch 90/100\n",
      "Learning Rate: 0.000000\n",
      "Train Loss: 0.0009, Train Acc: 100.00%\n",
      "Val Loss: 0.9110, Val Acc: 79.98%\n",
      "\n",
      "GPU Memory: 25.9MB / 3779.2MB\n"
     ]
    },
    {
     "name": "stderr",
     "output_type": "stream",
     "text": [
      "Training:  91%|█████████ | 91/100 [01:13<00:06,  1.42it/s]"
     ]
    },
    {
     "name": "stdout",
     "output_type": "stream",
     "text": [
      "\n",
      "Epoch 91/100\n",
      "Learning Rate: 0.000000\n",
      "Train Loss: 0.0009, Train Acc: 100.00%\n",
      "Val Loss: 0.9110, Val Acc: 79.98%\n",
      "\n",
      "GPU Memory: 25.9MB / 3779.2MB\n"
     ]
    },
    {
     "name": "stderr",
     "output_type": "stream",
     "text": [
      "Training:  92%|█████████▏| 92/100 [01:14<00:05,  1.40it/s]"
     ]
    },
    {
     "name": "stdout",
     "output_type": "stream",
     "text": [
      "\n",
      "Epoch 92/100\n",
      "Learning Rate: 0.000000\n",
      "Train Loss: 0.0009, Train Acc: 100.00%\n",
      "Val Loss: 0.9110, Val Acc: 79.98%\n",
      "\n",
      "GPU Memory: 25.9MB / 3779.2MB\n"
     ]
    },
    {
     "name": "stderr",
     "output_type": "stream",
     "text": [
      "Training:  93%|█████████▎| 93/100 [01:14<00:05,  1.39it/s]"
     ]
    },
    {
     "name": "stdout",
     "output_type": "stream",
     "text": [
      "\n",
      "Epoch 93/100\n",
      "Learning Rate: 0.000000\n",
      "Train Loss: 0.0009, Train Acc: 100.00%\n",
      "Val Loss: 0.9110, Val Acc: 79.98%\n",
      "\n",
      "GPU Memory: 25.9MB / 3779.2MB\n"
     ]
    },
    {
     "name": "stderr",
     "output_type": "stream",
     "text": [
      "Training:  94%|█████████▍| 94/100 [01:15<00:04,  1.38it/s]"
     ]
    },
    {
     "name": "stdout",
     "output_type": "stream",
     "text": [
      "\n",
      "Epoch 94/100\n",
      "Learning Rate: 0.000000\n",
      "Train Loss: 0.0009, Train Acc: 100.00%\n",
      "Val Loss: 0.9110, Val Acc: 79.98%\n",
      "\n",
      "GPU Memory: 25.9MB / 3779.2MB\n"
     ]
    },
    {
     "name": "stderr",
     "output_type": "stream",
     "text": [
      "Training:  95%|█████████▌| 95/100 [01:16<00:03,  1.39it/s]"
     ]
    },
    {
     "name": "stdout",
     "output_type": "stream",
     "text": [
      "\n",
      "Epoch 95/100\n",
      "Learning Rate: 0.000000\n",
      "Train Loss: 0.0009, Train Acc: 100.00%\n",
      "Val Loss: 0.9110, Val Acc: 79.98%\n",
      "\n",
      "GPU Memory: 25.9MB / 3779.2MB\n"
     ]
    },
    {
     "name": "stderr",
     "output_type": "stream",
     "text": [
      "Training:  96%|█████████▌| 96/100 [01:17<00:02,  1.38it/s]"
     ]
    },
    {
     "name": "stdout",
     "output_type": "stream",
     "text": [
      "\n",
      "Epoch 96/100\n",
      "Learning Rate: 0.000000\n",
      "Train Loss: 0.0009, Train Acc: 100.00%\n",
      "Val Loss: 0.9110, Val Acc: 79.98%\n",
      "\n",
      "GPU Memory: 25.9MB / 3779.2MB\n"
     ]
    },
    {
     "name": "stderr",
     "output_type": "stream",
     "text": [
      "Training:  97%|█████████▋| 97/100 [01:17<00:02,  1.37it/s]"
     ]
    },
    {
     "name": "stdout",
     "output_type": "stream",
     "text": [
      "\n",
      "Epoch 97/100\n",
      "Learning Rate: 0.000000\n",
      "Train Loss: 0.0009, Train Acc: 100.00%\n",
      "Val Loss: 0.9110, Val Acc: 79.98%\n",
      "\n",
      "GPU Memory: 25.9MB / 3779.2MB\n"
     ]
    },
    {
     "name": "stderr",
     "output_type": "stream",
     "text": [
      "Training:  98%|█████████▊| 98/100 [01:18<00:01,  1.40it/s]"
     ]
    },
    {
     "name": "stdout",
     "output_type": "stream",
     "text": [
      "\n",
      "Epoch 98/100\n",
      "Learning Rate: 0.000000\n",
      "Train Loss: 0.0009, Train Acc: 100.00%\n",
      "Val Loss: 0.9110, Val Acc: 79.98%\n",
      "\n",
      "GPU Memory: 25.9MB / 3779.2MB\n"
     ]
    },
    {
     "name": "stderr",
     "output_type": "stream",
     "text": [
      "Training:  99%|█████████▉| 99/100 [01:19<00:00,  1.38it/s]"
     ]
    },
    {
     "name": "stdout",
     "output_type": "stream",
     "text": [
      "\n",
      "Epoch 99/100\n",
      "Learning Rate: 0.000000\n",
      "Train Loss: 0.0009, Train Acc: 100.00%\n",
      "Val Loss: 0.9110, Val Acc: 79.98%\n",
      "\n",
      "GPU Memory: 25.9MB / 3779.2MB\n"
     ]
    },
    {
     "name": "stderr",
     "output_type": "stream",
     "text": [
      "Training: 100%|██████████| 100/100 [01:19<00:00,  1.25it/s]"
     ]
    },
    {
     "name": "stdout",
     "output_type": "stream",
     "text": [
      "\n",
      "Epoch 100/100\n",
      "Learning Rate: 0.000000\n",
      "Train Loss: 0.0009, Train Acc: 100.00%\n",
      "Val Loss: 0.9110, Val Acc: 79.98%\n"
     ]
    },
    {
     "name": "stderr",
     "output_type": "stream",
     "text": [
      "\n"
     ]
    }
   ],
   "source": [
    "# Lists to store metrics\n",
    "train_losses = []\n",
    "train_accuracies = []\n",
    "val_losses = []\n",
    "val_accuracies = []\n",
    "\n",
    "# Training loop\n",
    "num_epochs = 100\n",
    "best_val_loss = float('inf')\n",
    "patience = 10\n",
    "patience_counter = 0\n",
    "\n",
    "for epoch in tqdm(range(num_epochs), desc=\"Training\"):\n",
    "    model.train()\n",
    "    train_loss = 0\n",
    "    train_correct = 0\n",
    "    train_total = 0\n",
    "    \n",
    "    # Print GPU memory usage\n",
    "    if torch.cuda.is_available():\n",
    "        print(f\"\\nGPU Memory: {torch.cuda.memory_allocated()/1024**2:.1f}MB / {torch.cuda.get_device_properties(0).total_memory/1024**2:.1f}MB\")\n",
    "    \n",
    "    for batch_X, batch_y in train_loader:\n",
    "        batch_X = batch_X.to(device)\n",
    "        batch_y = batch_y.to(device)\n",
    "        optimizer.zero_grad()\n",
    "        outputs = model(batch_X)\n",
    "        loss = criterion(outputs, batch_y)\n",
    "        loss.backward()\n",
    "        optimizer.step()\n",
    "        \n",
    "        train_loss += loss.item()\n",
    "        _, predicted = torch.max(outputs.data, 1)\n",
    "        train_total += batch_y.size(0)\n",
    "        train_correct += (predicted == batch_y).sum().item()\n",
    "    \n",
    "    train_loss = train_loss / len(train_loader)\n",
    "    train_acc = 100 * train_correct / train_total\n",
    "    train_losses.append(train_loss)\n",
    "    train_accuracies.append(train_acc)\n",
    "    \n",
    "    model.eval()\n",
    "    val_loss = 0\n",
    "    val_correct = 0\n",
    "    val_total = 0\n",
    "    \n",
    "    with torch.no_grad():\n",
    "        for batch_X, batch_y in val_loader:\n",
    "            batch_X = batch_X.to(device)\n",
    "            batch_y = batch_y.to(device)\n",
    "            outputs = model(batch_X)\n",
    "            loss = criterion(outputs, batch_y)\n",
    "            val_loss += loss.item()\n",
    "            _, predicted = torch.max(outputs.data, 1)\n",
    "            val_total += batch_y.size(0)\n",
    "            val_correct += (predicted == batch_y).sum().item()\n",
    "            \n",
    "    val_loss = val_loss / len(val_loader)\n",
    "    val_acc = 100 * val_correct / val_total\n",
    "    val_losses.append(val_loss)\n",
    "    val_accuracies.append(val_acc)\n",
    "    \n",
    "    # Learning rate scheduler\n",
    "    scheduler.step(val_loss)\n",
    "    \n",
    "    current_lr = optimizer.param_groups[0]['lr']\n",
    "    \n",
    "    # Print metrics including learning rate\n",
    "    print(f\"\\nEpoch {epoch+1}/{num_epochs}\")\n",
    "    print(f\"Learning Rate: {current_lr:.6f}\")\n",
    "    print(f\"Train Loss: {train_loss:.4f}, Train Acc: {train_acc:.2f}%\")\n",
    "    print(f\"Val Loss: {val_loss:.4f}, Val Acc: {val_acc:.2f}%\")\n"
   ]
  },
  {
   "cell_type": "code",
   "execution_count": 548,
   "metadata": {},
   "outputs": [],
   "source": [
    "torch.save(model.state_dict(), '/home/vydat/Code/ML_AI/Time_Series/model.pt')"
   ]
  },
  {
   "cell_type": "code",
   "execution_count": 549,
   "metadata": {},
   "outputs": [
    {
     "data": {
      "image/png": "[encoded data removed]",
      "text/plain": [
       "<Figure size 1200x400 with 2 Axes>"
      ]
     },
     "metadata": {},
     "output_type": "display_data"
    }
   ],
   "source": [
    "# Plot training and validation metrics\n",
    "plt.figure(figsize=(12, 4))\n",
    "\n",
    "# Plot losses\n",
    "plt.subplot(1, 2, 1)\n",
    "plt.plot(train_losses, label='Train Loss')\n",
    "plt.plot(val_losses, label='Validation Loss')\n",
    "plt.xlabel('Epoch')\n",
    "plt.ylabel('Loss')\n",
    "plt.title('Training and Validation Loss')\n",
    "plt.legend()\n",
    "\n",
    "# Plot accuracies \n",
    "plt.subplot(1, 2, 2)\n",
    "plt.plot(train_accuracies, label='Train Accuracy')\n",
    "plt.plot(val_accuracies, label='Validation Accuracy')\n",
    "plt.xlabel('Epoch')\n",
    "plt.ylabel('Accuracy (%)')\n",
    "plt.title('Training and Validation Accuracy')\n",
    "plt.legend()\n",
    "\n",
    "plt.tight_layout()\n",
    "plt.show()\n"
   ]
  },
  {
   "cell_type": "code",
   "execution_count": 554,
   "metadata": {},
   "outputs": [
    {
     "name": "stdout",
     "output_type": "stream",
     "text": [
      "\n",
      "Test Results:\n",
      "Test Loss: 0.7066\n",
      "Test Accuracy: 83.50%\n"
     ]
    },
    {
     "name": "stderr",
     "output_type": "stream",
     "text": [
      "/tmp/ipykernel_18503/2494982269.py:2: FutureWarning: You are using `torch.load` with `weights_only=False` (the current default value), which uses the default pickle module implicitly. It is possible to construct malicious pickle data which will execute arbitrary code during unpickling (See https://github.com/pytorch/pytorch/blob/main/SECURITY.md#untrusted-models for more details). In a future release, the default value for `weights_only` will be flipped to `True`. This limits the functions that could be executed during unpickling. Arbitrary objects will no longer be allowed to be loaded via this mode unless they are explicitly allowlisted by the user via `torch.serialization.add_safe_globals`. We recommend you start setting `weights_only=True` for any use case where you don't have full control of the loaded file. Please open an issue on GitHub for any issues related to this experimental feature.\n",
      "  model.load_state_dict(torch.load('/home/vydat/Code/ML_AI/Time_Series/model.pt'))\n"
     ]
    }
   ],
   "source": [
    "# Load the saved model\n",
    "model.load_state_dict(torch.load('/home/vydat/Code/ML_AI/Time_Series/model.pt'))\n",
    "model.to(device)\n",
    "model.eval()  # Set the model to evaluation mode\n",
    "\n",
    "# Initialize metrics for test set\n",
    "test_loss = 0\n",
    "correct = 0\n",
    "total = 0\n",
    "\n",
    "# Disable gradient calculations for testing\n",
    "with torch.no_grad():\n",
    "    for inputs, labels in test_loader:\n",
    "        inputs = inputs.to(device)\n",
    "        labels = labels.to(device)\n",
    "        # Forward pass\n",
    "        outputs = model(inputs)\n",
    "        loss = criterion(outputs, labels)\n",
    "        \n",
    "        # Calculate test loss\n",
    "        test_loss += loss.item()\n",
    "        \n",
    "        # Calculate accuracy\n",
    "        _, predicted = torch.max(outputs.data, 1)\n",
    "        total += labels.size(0)\n",
    "        correct += (predicted == labels).sum().item()\n",
    "\n",
    "# Calculate average test loss and accuracy\n",
    "test_loss = test_loss / len(test_loader)\n",
    "test_accuracy = 100 * correct / total\n",
    "\n",
    "print(f\"\\nTest Results:\")\n",
    "print(f\"Test Loss: {test_loss:.4f}\")\n",
    "print(f\"Test Accuracy: {test_accuracy:.2f}%\")\n"
   ]
  },
  {
   "cell_type": "code",
   "execution_count": null,
   "metadata": {},
   "outputs": [],
   "source": []
  }
 ],
 "metadata": {
  "kernelspec": {
   "display_name": "ai_env",
   "language": "python",
   "name": "python3"
  },
  "language_info": {
   "codemirror_mode": {
    "name": "ipython",
    "version": 3
   },
   "file_extension": ".py",
   "mimetype": "text/x-python",
   "name": "python",
   "nbconvert_exporter": "python",
   "pygments_lexer": "ipython3",
   "version": "3.10.16"
  }
 },
 "nbformat": 4,
 "nbformat_minor": 2
}
